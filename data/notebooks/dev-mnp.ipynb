{
 "cells": [
  {
   "cell_type": "markdown",
   "id": "65b8fb03",
   "metadata": {},
   "source": [
    "# Computing *k* at the block and sub-block level serially and in parallel\n",
    "\n",
    "10-01-2021 | nmarchio@uchicago.edu | Mansueto Institute"
   ]
  },
  {
   "cell_type": "markdown",
   "id": "ee411bf7",
   "metadata": {},
   "source": [
    "#### Conda environment setup\n",
    "```\n",
    "conda create --name pygeos_env python=3.9.5\n",
    "source activate pygeos_env\n",
    "conda config --env --add channels conda-forge\n",
    "conda config --env --set channel_priority strict\n",
    "conda install pygeos --channel conda-forge\n",
    "conda install geopandas\n",
    "conda install gdal --channel conda-forge\n",
    "conda install -c conda-forge pyarrow\n",
    "conda install libpysal\n",
    "conda install dask\n",
    "conda install time \n",
    "```\n",
    "#### Additional installs for notebooks\n",
    "```\n",
    "conda install ipykernel\n",
    "conda install -c conda-forge notebook\n",
    "conda install -c conda-forge nb_conda_kernels\n",
    "conda install jupyter\n",
    "python -m ipykernel install --user --name=pygeos_env\n",
    "```"
   ]
  },
  {
   "cell_type": "code",
   "execution_count": 1,
   "id": "da031d85",
   "metadata": {},
   "outputs": [],
   "source": [
    "import time\n",
    "import warnings\n",
    "warnings.filterwarnings('ignore', message='.*distributed.diskutils - INFO - *')\n",
    "from dask.distributed import Client\n",
    "client = Client(n_workers=2) \n",
    "import dask.bag as db\n",
    "import dask"
   ]
  },
  {
   "cell_type": "code",
   "execution_count": 2,
   "id": "aaa91085",
   "metadata": {},
   "outputs": [],
   "source": [
    "import pygeos\n",
    "import numpy as np\n",
    "import pandas as pd\n",
    "import geopandas as gpd\n",
    "import shapely\n",
    "import pyarrow\n",
    "import re\n",
    "import os\n",
    "gpd.options.use_pygeos = True"
   ]
  },
  {
   "cell_type": "code",
   "execution_count": 3,
   "id": "a45729a0",
   "metadata": {},
   "outputs": [],
   "source": [
    "def build_blocks(gadm_data, osm_data, gadm_level, gadm_code):\n",
    "    \"\"\"\n",
    "    Returns a GeoDataFrame containing all blocks in a GADM\n",
    "    Args:\n",
    "        gadm_data: GeoDataFrame, containing GADM delineations (downloaded from https://gadm.org/data.html)\n",
    "        osm_data: PyGEOS geometry array, of linestrings that delineate blocks within GADMs (i.e., OSM linestrings from from http://download.geofabrik.de/)\n",
    "        gadm_level: string, integer representing most detailed GID_* column in gadm_data\n",
    "        gadm_code: string, unique identification code for each GADM GID_* column in gadm_data\n",
    "    Returns:\n",
    "        GeoDataFrame with enclosed block delineation geometries for a given 'gadm_code', each block is assigned a unique 'block_id'.\n",
    "    \"\"\"\n",
    "    gadm_data = pygeos.from_shapely(gadm_data[gadm_data['GID_'+ gadm_level] == gadm_code]['geometry'])\n",
    "    osm_data = pygeos.intersection(pygeos.multilinestrings(osm_data),gadm_data)\n",
    "    gadm_outline = pygeos.get_exterior_ring(pygeos.get_parts(gadm_data)[pygeos.area(pygeos.get_parts(gadm_data)) == max(pygeos.area(pygeos.get_parts(gadm_data)))])\n",
    "    gadm_lines = pygeos.line_merge(pygeos.multilinestrings(pygeos.get_exterior_ring(pygeos.get_parts(gadm_data))))\n",
    "    gadm_lines = pygeos.union(osm_data[0],gadm_lines)\n",
    "    gadm_blocks = pygeos.union(osm_data[0],gadm_outline)\n",
    "    gadm_blocks = pygeos.polygonize_full([gadm_blocks])\n",
    "    gadm_blocks = gpd.GeoDataFrame.from_dict({\"country_code\": gadm_code[0:3],\n",
    "                                              \"gadm_code\": gadm_code,\n",
    "                                              'geometry': pygeos.to_shapely(pygeos.get_parts(pygeos.normalize(gadm_blocks[0])))}, crs=4326)\n",
    "    gadm_blocks = gadm_blocks.reset_index(drop=True)\n",
    "    gadm_blocks = gadm_blocks.assign(block_id = [gadm_code + '_' + str(x) for x in list(gadm_blocks.index)])\n",
    "    gadm_blocks = gadm_blocks[['block_id','gadm_code','country_code','geometry']].to_crs(epsg=3395)\n",
    "    return gadm_blocks\n"
   ]
  },
  {
   "cell_type": "code",
   "execution_count": 4,
   "id": "8df2a32e",
   "metadata": {},
   "outputs": [],
   "source": [
    "def trim_coastline(gadm_data, osm_data):\n",
    "    \"\"\"\n",
    "    Returns a GeoDataFrame containing all blocks in a GADM\n",
    "    Args:\n",
    "        gadm_data: GeoDataFrame, containing GADM delineations (downloaded from https://gadm.org/data.html)\n",
    "        osm_data: GeoDataFrame, containing linestrings coastline features (i.e., OSM linestrings from from http://download.geofabrik.de/)\n",
    "    Returns:\n",
    "        GeoDataFrame with polygon(s) of the input geometry with trimmed coastline\n",
    "    \"\"\"\n",
    "    bbox = pygeos.envelope(pygeos.union_all(pygeos.from_shapely(gadm_data['geometry'])))\n",
    "    bbox_center = pygeos.get_coordinates(pygeos.centroid(bbox)).tolist()\n",
    "    bbox_enlarge = pygeos.apply(bbox, lambda x: ((x - bbox_center)*1.1 + bbox_center) )\n",
    "    area = pygeos.from_shapely(gadm_data['geometry'])\n",
    "    area_center = pygeos.buffer(pygeos.centroid(area), radius=.00001, quadsegs=50) \n",
    "    coast = pygeos.union_all(pygeos.from_shapely(osm_data[osm_data['natural'].isin(['coastline','water'])]['geometry']))\n",
    "    coast_buffer = pygeos.buffer(coast, radius=.00001, quadsegs=50) \n",
    "    bbox_poly = pygeos.difference(bbox_enlarge,coast_buffer)\n",
    "    bbox_poly_parts = pygeos.get_parts(bbox_poly)\n",
    "    positive_space = bbox_poly_parts[pygeos.intersects(pygeos.multipolygons(area_center), bbox_poly_parts)]\n",
    "    area_intersect = pygeos.get_parts(pygeos.intersection(pygeos.union_all(area), positive_space))\n",
    "    area_intersect = area_intersect[pygeos.intersects(pygeos.multipolygons(area_center), area_intersect)]\n",
    "     \n",
    "    data = gpd.GeoDataFrame({\"geometry\": gpd.GeoSeries(pygeos.to_shapely(area_intersect))}).set_crs(epsg=4326)\n",
    "    return data\n"
   ]
  },
  {
   "cell_type": "code",
   "execution_count": 5,
   "id": "5264fd8c",
   "metadata": {},
   "outputs": [],
   "source": [
    "def index_buildings(gadm_block_data, bldg_data):\n",
    "    \"\"\"\n",
    "    Returns a GeoDataFrame containing \n",
    "    Args:\n",
    "        gadm_block_data: GeoDataFrame, output returned from build_blocks() function\n",
    "        bldg_data: GeoDataFrame, containing building geometries\n",
    "    Returns:\n",
    "        GeoDataFrame with building geometries mapped to 'block_id','gadm_code','country_code'.\n",
    "    \"\"\"\n",
    "    gadm_block_data = gadm_block_data.to_crs(epsg=3395)\n",
    "    bldg_data = bldg_data.to_crs(epsg=3395)\n",
    "    bldg_points = bldg_data.copy()\n",
    "    bldg_points['geometry'] = bldg_points.centroid\n",
    "    bldg_index = bldg_points.sindex\n",
    "    index_bulk = bldg_index.query_bulk(gadm_block_data['geometry'], predicate=\"intersects\")\n",
    "    blocks_buildings_map = pd.DataFrame({'index_blocks': index_bulk[0], 'index_buildings': index_bulk[1]})\n",
    "    blocks_buildings_map = blocks_buildings_map.merge(bldg_data[['geometry']], how = 'left', left_on='index_buildings', right_index=True)\n",
    "    blocks_buildings_map = blocks_buildings_map.merge(gadm_block_data[['block_id','gadm_code','country_code']], left_on='index_blocks', right_index=True)\n",
    "    bldg_data = gpd.GeoDataFrame(blocks_buildings_map[['block_id','gadm_code','country_code','geometry']]).to_crs(epsg=3395)\n",
    "    return bldg_data\n"
   ]
  },
  {
   "cell_type": "code",
   "execution_count": 6,
   "id": "e8acda9e",
   "metadata": {
    "scrolled": false
   },
   "outputs": [],
   "source": [
    "def compute_k(block_data, bldg_data, block_col, block_id, street_linestrings=None, buffer_streets=False):\n",
    "    \"\"\"\n",
    "    Returns a GeoDataFrame containing k-complexity value for each block\n",
    "    Args:\n",
    "        block_data: GeoDataFrame, output returned from build_blocks() function\n",
    "        bldg_data: GeoDataFrame, output returned from index_buildings() function\n",
    "        block_col: string, column that contains the block_id codes (present in block_data and bldg_data)\n",
    "        block_id: string, unique identification code of block_id string in block_col\n",
    "        street_linestrings: PyGEOS geometry array, linestrings representing street accesses (optional)\n",
    "        buffer_streets: bool, default False, if True removes all disconnected streets in a buffer radius of 30\n",
    "    Returns:\n",
    "        GeoDataFrame with block geometries and the columns: \n",
    "            'block_id','block_area','building_area','building_count','building_layers','k_complexity'\n",
    "    \"\"\"\n",
    "    block_layers = [] \n",
    "\n",
    "    bldg_data = bldg_data[bldg_data[block_col] == block_id].to_crs(epsg=3395)\n",
    "    block_data = block_data[block_data[block_col] == block_id].to_crs(epsg=3395) \n",
    "    \n",
    "    country_code = block_data['country_code'].unique()[0] \n",
    "    gadm_code = block_data['gadm_code'].unique()[0] \n",
    "    \n",
    "    block_area = round(pygeos.area(pygeos.multipolygons(pygeos.from_shapely(block_data['geometry']))),2)\n",
    "    bldg_array = pygeos.from_shapely(bldg_data['geometry'])\n",
    "    bldg_area_list = pygeos.area(bldg_array)\n",
    "    bldg_area = round(sum(bldg_area_list),2)\n",
    "    bldg_count = np.sum(pygeos.get_num_geometries(bldg_array))\n",
    "        \n",
    "    if bldg_count not in [1,0]:\n",
    "            \n",
    "        bldg_data[\"geometry\"] = bldg_data.centroid\n",
    "        building_points = pygeos.multipoints(pygeos.from_shapely(bldg_data[\"geometry\"]))\n",
    "        points = pygeos.get_parts(building_points)\n",
    "        block = pygeos.from_shapely(block_data['geometry'])\n",
    "        voronoi = pygeos.get_parts(pygeos.voronoi_polygons(geometry=building_points, extend_to=block))\n",
    "        if not pygeos.is_valid(block): block = pygeos.make_valid(block)\n",
    "        block_parcels = pygeos.intersection(block, voronoi)    \n",
    "        bldg_count = np.sum(pygeos.get_num_geometries(block_parcels))\n",
    "\n",
    "        if street_linestrings is not None:\n",
    "            street_linestrings = pygeos.intersection(pygeos.multilinestrings(street_linestrings),block)\n",
    "            if buffer_streets == True:\n",
    "                connected_streets = pygeos.get_parts(pygeos.buffer(street_linestrings, radius=30, quadsegs=5)) \n",
    "                connected_streets = connected_streets[pygeos.length(connected_streets).argsort()[::-1] == 0]\n",
    "                exterior_boundary = pygeos.buffer(pygeos.get_exterior_ring(block), radius=60, quadsegs=5)\n",
    "                complete_buffer = pygeos.union(connected_streets, exterior_boundary)\n",
    "                street_linestrings = pygeos.intersection(street_linestrings,complete_buffer)\n",
    "            if pygeos.is_empty(street_linestrings[0]) == False:\n",
    "                block_intersect = pygeos.intersects(street_linestrings,block_parcels)\n",
    "                block_parcels_outer = block_parcels[block_intersect]\n",
    "                block_layers.append( str(np.sum(pygeos.get_num_geometries(block_parcels_outer))))\n",
    "                block_depth = len(block_layers)\n",
    "                block_parcels = block_parcels[~block_intersect]\n",
    "                if len(block_parcels_outer) == 0: \n",
    "                    block_parcels_outer = block_parcels.copy()\n",
    "            else: block_parcels_outer = block_parcels.copy()\n",
    "\n",
    "        parcel_residual = np.sum(pygeos.get_num_geometries(block_parcels))\n",
    "\n",
    "        while parcel_residual > 0:\n",
    "\n",
    "            block_reduced = pygeos.coverage_union_all(block_parcels_outer)\n",
    "            block_parcels_inner = block_parcels[~pygeos.touches(block_parcels,block_reduced)]      \n",
    "            block_parcels_outer = block_parcels[pygeos.touches(block_parcels,block_reduced)]  \n",
    "            if np.sum(pygeos.get_num_geometries(block_parcels_outer)) == 0 and np.sum(pygeos.get_num_geometries(block_parcels_inner)) > 0:\n",
    "                block_reduced = pygeos.coverage_union_all(block_parcels_inner)\n",
    "                center = pygeos.get_coordinates(pygeos.centroid(block_reduced)).tolist()\n",
    "                block_interior = pygeos.apply(block_reduced, lambda x: ((x - center)*.9999 + center) )\n",
    "                block_exterior = pygeos.difference(block_reduced, block_interior)\n",
    "                block_ring = pygeos.intersects(block_exterior, block_parcels_inner)\n",
    "                block_parcels_outer = block_parcels_inner[block_ring]\n",
    "                block_parcels_inner = block_parcels_inner[~block_ring]\n",
    "            block_parcels = block_parcels_inner.copy()\n",
    "            parcel_residual = np.sum(pygeos.get_num_geometries(block_parcels_inner))\n",
    "            if parcel_residual == 0: \n",
    "                block_layers.append( str(np.sum(pygeos.get_num_geometries(block_parcels_outer))))\n",
    "                block_depth = len(block_layers)\n",
    "                break\n",
    "            block_layers.append( str(np.sum(pygeos.get_num_geometries(block_parcels_outer))))\n",
    "            block_depth = len(block_layers) \n",
    "        else:\n",
    "            block_depth = len(block_layers)\n",
    "            \n",
    "    else:\n",
    "        block_layers.append( str(bldg_count))\n",
    "        block_depth = len(block_layers)\n",
    "        \n",
    "    data = gpd.GeoDataFrame.from_dict({'block_id': [block_id], \n",
    "                                       'gadm_code': gadm_code,\n",
    "                                       'country_code': country_code,\n",
    "                                       'block_area': float(block_area),\n",
    "                                       'building_area': float(bldg_area),\n",
    "                                       'building_count': int(bldg_count),\n",
    "                                       'building_layers': ','.join(block_layers), \n",
    "                                       'k_complexity': int(block_depth), \n",
    "                                       'geometry': block_data['geometry']}).to_crs(epsg=4326)\n",
    "    return data\n",
    "\n"
   ]
  },
  {
   "cell_type": "code",
   "execution_count": 7,
   "id": "63e4a2d2",
   "metadata": {},
   "outputs": [],
   "source": [
    "def compute_layers(block_data, bldg_data, block_col, block_id, street_linestrings=None, buffer_streets=False):\n",
    "    \"\"\"\n",
    "    Returns a GeoDataFrame containing k-complexity layers in each row for a block\n",
    "    Args:\n",
    "        block_data: GeoDataFrame, output returned from build_blocks() function\n",
    "        bldg_data: GeoDataFrame, output returned from index_buildings() function\n",
    "        block_col: string, column that contains the block_id codes (present in block_data and bldg_data)\n",
    "        block_id: string, unique identification code of block_id string in block_col\n",
    "        street_linestrings: PyGEOS geometry array, linestrings representing street accesses (optional)\n",
    "        buffer_streets: bool, default False, if True removes all disconnected streets in a buffer radius of 30\n",
    "    Returns:\n",
    "        GeoDataFrame with block-layer geometries and the columns: \n",
    "            'block_id','gadm_code','country_code','building_count','k_complexity'\n",
    "    \"\"\"\n",
    "    block_layers = [] \n",
    "    block_layers_geometry = []\n",
    "    k_complexity = []\n",
    "    bldg_data = bldg_data[bldg_data[block_col] == block_id].to_crs(epsg=3395)\n",
    "    block_data = block_data[block_data[block_col] == block_id].to_crs(epsg=3395) \n",
    "    country_code = block_data['country_code'].unique()[0] \n",
    "    gadm_code = block_data['gadm_code'].unique()[0] \n",
    "    bldg_array = pygeos.from_shapely(bldg_data['geometry'])\n",
    "    bldg_count = np.sum(pygeos.get_num_geometries(bldg_array))\n",
    "    \n",
    "    if bldg_count not in [1,0]:\n",
    "        bldg_data[\"geometry\"] = bldg_data.centroid\n",
    "        building_points = pygeos.multipoints(pygeos.from_shapely(bldg_data[\"geometry\"]))\n",
    "        points = pygeos.get_parts(building_points)\n",
    "        block = pygeos.from_shapely(block_data['geometry'])\n",
    "        voronoi = pygeos.get_parts(pygeos.voronoi_polygons(geometry=building_points, extend_to=block))\n",
    "        if not pygeos.is_valid(block): block = pygeos.make_valid(block)\n",
    "        block_parcels = pygeos.intersection(block, voronoi)    \n",
    "        bldg_count = np.sum(pygeos.get_num_geometries(block_parcels))\n",
    "        \n",
    "        if street_linestrings is not None:\n",
    "            street_linestrings = pygeos.intersection(pygeos.multilinestrings(street_linestrings),block)\n",
    "            if buffer_streets == True:\n",
    "                connected_streets = pygeos.get_parts(pygeos.buffer(street_linestrings, radius=30, quadsegs=5)) \n",
    "                connected_streets = connected_streets[pygeos.length(connected_streets).argsort()[::-1] == 0]\n",
    "                exterior_boundary = pygeos.buffer(pygeos.get_exterior_ring(block), radius=60, quadsegs=5)\n",
    "                complete_buffer = pygeos.union(connected_streets, exterior_boundary)\n",
    "                street_linestrings = pygeos.intersection(street_linestrings,complete_buffer)\n",
    "            if pygeos.is_empty(street_linestrings[0]) == False:\n",
    "                block_intersect = pygeos.intersects(street_linestrings,block_parcels)\n",
    "                block_parcels_outer = block_parcels[block_intersect]\n",
    "                block_layers.append(np.sum(pygeos.get_num_geometries(block_parcels_outer)))\n",
    "                block_layers_geometry.append(pygeos.geometrycollections(block_parcels_outer))\n",
    "                block_depth = len(block_layers)\n",
    "                k_complexity.append(block_depth)\n",
    "                block_parcels = block_parcels[~block_intersect]\n",
    "                if len(block_parcels_outer) == 0: \n",
    "                    block_parcels_outer = block_parcels.copy()\n",
    "            else: block_parcels_outer = block_parcels.copy()\n",
    " \n",
    "        parcel_residual = np.sum(pygeos.get_num_geometries(block_parcels))\n",
    "        \n",
    "        while parcel_residual > 0:\n",
    "            block_reduced = pygeos.coverage_union_all(block_parcels_outer)\n",
    "            block_parcels_inner = block_parcels[~pygeos.touches(block_parcels,block_reduced)]      \n",
    "            block_parcels_outer = block_parcels[pygeos.touches(block_parcels,block_reduced)] \n",
    "            if np.sum(pygeos.get_num_geometries(block_parcels_outer)) == 0 and np.sum(pygeos.get_num_geometries(block_parcels_inner)) > 0:\n",
    "                block_reduced = pygeos.coverage_union_all(block_parcels_inner)\n",
    "                center = pygeos.get_coordinates(pygeos.centroid(block_reduced)).tolist()\n",
    "                block_interior = pygeos.apply(block_reduced, lambda x: ((x - center)*.9999 + center) )\n",
    "                block_exterior = pygeos.difference(block_reduced, block_interior)\n",
    "                block_ring = pygeos.intersects(block_exterior, block_parcels_inner)\n",
    "                block_parcels_outer = block_parcels_inner[block_ring]\n",
    "                block_parcels_inner = block_parcels_inner[~block_ring]\n",
    "            block_parcels = block_parcels_inner.copy()\n",
    "            parcel_residual = np.sum(pygeos.get_num_geometries(block_parcels_inner))\n",
    "            \n",
    "            if parcel_residual == 0: \n",
    "                block_layers.append(np.sum(pygeos.get_num_geometries(block_parcels_outer)))\n",
    "                block_layers_geometry.append(pygeos.geometrycollections(block_parcels_outer))\n",
    "                block_depth = len(block_layers)\n",
    "                k_complexity.append(block_depth)\n",
    "                break\n",
    "                \n",
    "            block_layers.append(np.sum(pygeos.get_num_geometries(block_parcels_outer)))\n",
    "            block_layers_geometry.append(pygeos.geometrycollections(block_parcels_outer))\n",
    "            block_depth = len(block_layers) \n",
    "            k_complexity.append(block_depth)\n",
    "        else:\n",
    "            block_depth = len(block_layers)\n",
    "            k_complexity.append(block_depth)\n",
    "    else:\n",
    "        block_layers.append(bldg_count)\n",
    "        block_layers_geometry.append(pygeos.geometrycollections(block_parcels_outer))\n",
    "        block_depth = len(block_layers)\n",
    "        k_complexity.append(block_depth)\n",
    "\n",
    "    data = gpd.GeoDataFrame.from_dict({'block_id': block_id, \n",
    "                                       'gadm_code': gadm_code,\n",
    "                                       'country_code': country_code,\n",
    "                                       'building_count': block_layers,\n",
    "                                       'k_complexity': k_complexity,\n",
    "                                       'geometry': pygeos.to_shapely(block_layers_geometry)}).set_crs(epsg=3395)\n",
    "    return data\n"
   ]
  },
  {
   "cell_type": "markdown",
   "id": "90f46b2e",
   "metadata": {},
   "source": [
    "## Data Inputs\n",
    "[Box link to example data for Sierra Leone](https://uchicago.box.com/s/kz0lqn906itqw6nn16oyk2xncrx1r84m)"
   ]
  },
  {
   "cell_type": "code",
   "execution_count": 8,
   "id": "01e76142",
   "metadata": {},
   "outputs": [
    {
     "data": {
      "text/plain": [
       "'/Users/nm/Desktop/Projects/work/mnp/mnp-dev'"
      ]
     },
     "execution_count": 8,
     "metadata": {},
     "output_type": "execute_result"
    }
   ],
   "source": [
    "%pwd\n",
    "#%cd"
   ]
  },
  {
   "cell_type": "markdown",
   "id": "10b685d4",
   "metadata": {},
   "source": [
    "#### Read in country-level GADM delineations"
   ]
  },
  {
   "cell_type": "code",
   "execution_count": 9,
   "id": "0aa5b72a",
   "metadata": {},
   "outputs": [],
   "source": [
    "# Read in the GADM of country\n",
    "gadm_gpd = gpd.read_file('./data/gadm/gadm36_SLE_3.shp').to_crs(epsg = 4326)\n",
    "# Construct list of GADMs\n",
    "gadm_level = max([(re.sub('GID_', '', i)) for i in list(filter(re.compile(\"GID_*\").match, list(gadm_gpd.columns)))])\n",
    "gadm_list = list(gadm_gpd['GID_'+ gadm_level].unique())\n"
   ]
  },
  {
   "cell_type": "markdown",
   "id": "66d40a63",
   "metadata": {},
   "source": [
    "#### Read in  country-level OSM 'highway' linestrings\n"
   ]
  },
  {
   "cell_type": "code",
   "execution_count": 10,
   "id": "301421e2",
   "metadata": {},
   "outputs": [],
   "source": [
    "# Read in the OSM linestring blob\n",
    "osm_gpd = gpd.read_file('./data/osm/sierra-leone_lines.geojson').to_crs(epsg = 4326)\n",
    "# PyGEOS array for generating blocks\n",
    "osm_pygeos = pygeos.from_shapely(osm_gpd['geometry'])\n",
    "# PyGEOS array for internal street networks\n",
    "osm_highways = pygeos.from_shapely(osm_gpd[osm_gpd['highway'].notnull()]['geometry'].to_crs(epsg=3395))\n"
   ]
  },
  {
   "cell_type": "markdown",
   "id": "f557415f",
   "metadata": {},
   "source": [
    "#### Trim the country-level GADM to fit within coastlines"
   ]
  },
  {
   "cell_type": "code",
   "execution_count": 11,
   "id": "b151a43e",
   "metadata": {},
   "outputs": [],
   "source": [
    "gadm_gpd_trim = trim_coastline(gadm_data = gadm_gpd, osm_data = osm_gpd)\n",
    "gadm_gpd = gpd.clip(gdf = gadm_gpd, mask = gadm_gpd_trim, keep_geom_type=True)\n"
   ]
  },
  {
   "cell_type": "markdown",
   "id": "07fbd773",
   "metadata": {},
   "source": [
    "#### Read in GADM-level buildings polygons"
   ]
  },
  {
   "cell_type": "code",
   "execution_count": 12,
   "id": "4dbd247e",
   "metadata": {},
   "outputs": [],
   "source": [
    "# Set building file directory path\n",
    "building_path = '/Users/nm/Downloads/'\n",
    "country_code = 'SLE'\n",
    "# Construct list of building files in directory\n",
    "building_files = list(filter(re.compile(\"buildings_\").match, sorted(list(os.listdir(str(building_path + country_code))))))  \n"
   ]
  },
  {
   "cell_type": "markdown",
   "id": "c01f2d9a",
   "metadata": {},
   "source": [
    "## Computation Examples"
   ]
  },
  {
   "cell_type": "markdown",
   "id": "5bbba503",
   "metadata": {},
   "source": [
    "#### Generate blocks and join to building geometries"
   ]
  },
  {
   "cell_type": "code",
   "execution_count": 13,
   "id": "c8913c82",
   "metadata": {},
   "outputs": [
    {
     "name": "stdout",
     "output_type": "stream",
     "text": [
      "CPU times: user 16.1 s, sys: 1e+03 ms, total: 17.1 s\n",
      "Wall time: 17 s\n"
     ]
    }
   ],
   "source": [
    "%%time\n",
    "gadm_id = 'SLE.4.2.1_1'\n",
    "gadm_blocks = build_blocks(gadm_data = gadm_gpd, \n",
    "                           osm_data = osm_pygeos, \n",
    "                           gadm_level = gadm_level,\n",
    "                           gadm_code = gadm_id)\n",
    "gadm_blocks_list = list(gadm_blocks['block_id'].unique())\n",
    "building_file = list(filter(re.compile(str(\"%s\" % gadm_id +'.geojson')).findall, sorted(building_files)))[0]\n",
    "building_gpd = gpd.read_file(str(building_path + country_code + '/' + building_file)).to_crs(epsg=3395)\n",
    "block_coded_buildings = index_buildings(gadm_block_data = gadm_blocks, bldg_data = building_gpd)\n",
    "\n",
    " "
   ]
  },
  {
   "cell_type": "code",
   "execution_count": 14,
   "id": "ff47b251",
   "metadata": {},
   "outputs": [
    {
     "data": {
      "text/plain": [
       "<AxesSubplot:>"
      ]
     },
     "execution_count": 14,
     "metadata": {},
     "output_type": "execute_result"
    },
    {
     "data": {
      "image/png": "[encoded data removed]",
      "text/plain": [
       "<Figure size 432x288 with 1 Axes>"
      ]
     },
     "metadata": {
      "needs_background": "light"
     },
     "output_type": "display_data"
    }
   ],
   "source": [
    "gadm_blocks['geometry'].plot(cmap = 'viridis')"
   ]
  },
  {
   "cell_type": "markdown",
   "id": "1c6ce990",
   "metadata": {},
   "source": [
    "#### Run *k*-function on a single block (returns 1 block-level record in each row with *k*-value)"
   ]
  },
  {
   "cell_type": "code",
   "execution_count": 15,
   "id": "a691cbfa",
   "metadata": {},
   "outputs": [
    {
     "name": "stdout",
     "output_type": "stream",
     "text": [
      "CPU times: user 492 ms, sys: 12 ms, total: 504 ms\n",
      "Wall time: 400 ms\n"
     ]
    }
   ],
   "source": [
    "%%time\n",
    "k_block = compute_k(block_data = gadm_blocks,\n",
    "                    bldg_data = block_coded_buildings, \n",
    "                    block_col = 'block_id', \n",
    "                    block_id = 'SLE.4.2.1_1_70',\n",
    "                    street_linestrings = osm_highways,\n",
    "                    buffer_streets=True) "
   ]
  },
  {
   "cell_type": "code",
   "execution_count": 16,
   "id": "38649b7d",
   "metadata": {},
   "outputs": [
    {
     "data": {
      "text/html": [
       "<div>\n",
       "<style scoped>\n",
       "    .dataframe tbody tr th:only-of-type {\n",
       "        vertical-align: middle;\n",
       "    }\n",
       "\n",
       "    .dataframe tbody tr th {\n",
       "        vertical-align: top;\n",
       "    }\n",
       "\n",
       "    .dataframe thead th {\n",
       "        text-align: right;\n",
       "    }\n",
       "</style>\n",
       "<table border=\"1\" class=\"dataframe\">\n",
       "  <thead>\n",
       "    <tr style=\"text-align: right;\">\n",
       "      <th></th>\n",
       "      <th>block_id</th>\n",
       "      <th>gadm_code</th>\n",
       "      <th>country_code</th>\n",
       "      <th>block_area</th>\n",
       "      <th>building_area</th>\n",
       "      <th>building_count</th>\n",
       "      <th>building_layers</th>\n",
       "      <th>k_complexity</th>\n",
       "      <th>geometry</th>\n",
       "    </tr>\n",
       "  </thead>\n",
       "  <tbody>\n",
       "    <tr>\n",
       "      <th>70</th>\n",
       "      <td>SLE.4.2.1_1_70</td>\n",
       "      <td>SLE.4.2.1_1</td>\n",
       "      <td>SLE</td>\n",
       "      <td>106940.9</td>\n",
       "      <td>18448.58</td>\n",
       "      <td>216</td>\n",
       "      <td>85,80,34,16,1</td>\n",
       "      <td>5</td>\n",
       "      <td>POLYGON ((-13.25079 8.45523, -13.25079 8.45533...</td>\n",
       "    </tr>\n",
       "  </tbody>\n",
       "</table>\n",
       "</div>"
      ],
      "text/plain": [
       "          block_id    gadm_code country_code  block_area  building_area  \\\n",
       "70  SLE.4.2.1_1_70  SLE.4.2.1_1          SLE    106940.9       18448.58   \n",
       "\n",
       "    building_count building_layers  k_complexity  \\\n",
       "70             216   85,80,34,16,1             5   \n",
       "\n",
       "                                             geometry  \n",
       "70  POLYGON ((-13.25079 8.45523, -13.25079 8.45533...  "
      ]
     },
     "execution_count": 16,
     "metadata": {},
     "output_type": "execute_result"
    }
   ],
   "source": [
    "k_block.head()"
   ]
  },
  {
   "cell_type": "code",
   "execution_count": 17,
   "id": "e59a787b",
   "metadata": {},
   "outputs": [
    {
     "data": {
      "text/plain": [
       "block_id             object\n",
       "gadm_code            object\n",
       "country_code         object\n",
       "block_area          float64\n",
       "building_area       float64\n",
       "building_count        int64\n",
       "building_layers      object\n",
       "k_complexity          int64\n",
       "geometry           geometry\n",
       "dtype: object"
      ]
     },
     "execution_count": 17,
     "metadata": {},
     "output_type": "execute_result"
    }
   ],
   "source": [
    "k_block.dtypes"
   ]
  },
  {
   "cell_type": "code",
   "execution_count": 18,
   "id": "832e6fcd",
   "metadata": {},
   "outputs": [
    {
     "data": {
      "text/plain": [
       "<AxesSubplot:>"
      ]
     },
     "execution_count": 18,
     "metadata": {},
     "output_type": "execute_result"
    },
    {
     "data": {
      "image/png": "[encoded data removed]",
      "text/plain": [
       "<Figure size 432x288 with 1 Axes>"
      ]
     },
     "metadata": {
      "needs_background": "light"
     },
     "output_type": "display_data"
    }
   ],
   "source": [
    "k_block.plot(column='k_complexity', cmap = 'viridis')\n"
   ]
  },
  {
   "cell_type": "markdown",
   "id": "836fb551",
   "metadata": {},
   "source": [
    "#### Calculate *k*-complexity layers which is useful for inspecting blocks (returns several records for each building layer within a block)"
   ]
  },
  {
   "cell_type": "code",
   "execution_count": 19,
   "id": "27379973",
   "metadata": {},
   "outputs": [
    {
     "name": "stdout",
     "output_type": "stream",
     "text": [
      "CPU times: user 2min 59s, sys: 2.28 s, total: 3min 2s\n",
      "Wall time: 3min\n"
     ]
    }
   ],
   "source": [
    "%%time\n",
    "k_layers = compute_layers(block_data = gadm_blocks, \n",
    "                          bldg_data = block_coded_buildings, \n",
    "                          block_col = 'block_id', \n",
    "                          block_id = 'SLE.4.2.1_1_14',\n",
    "                          street_linestrings=osm_highways,\n",
    "                          buffer_streets = True) \n"
   ]
  },
  {
   "cell_type": "code",
   "execution_count": 20,
   "id": "ba5b0025",
   "metadata": {},
   "outputs": [
    {
     "data": {
      "text/html": [
       "<div>\n",
       "<style scoped>\n",
       "    .dataframe tbody tr th:only-of-type {\n",
       "        vertical-align: middle;\n",
       "    }\n",
       "\n",
       "    .dataframe tbody tr th {\n",
       "        vertical-align: top;\n",
       "    }\n",
       "\n",
       "    .dataframe thead th {\n",
       "        text-align: right;\n",
       "    }\n",
       "</style>\n",
       "<table border=\"1\" class=\"dataframe\">\n",
       "  <thead>\n",
       "    <tr style=\"text-align: right;\">\n",
       "      <th></th>\n",
       "      <th>block_id</th>\n",
       "      <th>gadm_code</th>\n",
       "      <th>country_code</th>\n",
       "      <th>building_count</th>\n",
       "      <th>k_complexity</th>\n",
       "      <th>geometry</th>\n",
       "    </tr>\n",
       "  </thead>\n",
       "  <tbody>\n",
       "    <tr>\n",
       "      <th>0</th>\n",
       "      <td>SLE.4.2.1_1_14</td>\n",
       "      <td>SLE.4.2.1_1</td>\n",
       "      <td>SLE</td>\n",
       "      <td>1225</td>\n",
       "      <td>1</td>\n",
       "      <td>GEOMETRYCOLLECTION (POLYGON ((-1474140.642 939...</td>\n",
       "    </tr>\n",
       "    <tr>\n",
       "      <th>1</th>\n",
       "      <td>SLE.4.2.1_1_14</td>\n",
       "      <td>SLE.4.2.1_1</td>\n",
       "      <td>SLE</td>\n",
       "      <td>1743</td>\n",
       "      <td>2</td>\n",
       "      <td>GEOMETRYCOLLECTION (POLYGON ((-1474114.043 939...</td>\n",
       "    </tr>\n",
       "    <tr>\n",
       "      <th>2</th>\n",
       "      <td>SLE.4.2.1_1_14</td>\n",
       "      <td>SLE.4.2.1_1</td>\n",
       "      <td>SLE</td>\n",
       "      <td>1371</td>\n",
       "      <td>3</td>\n",
       "      <td>GEOMETRYCOLLECTION (POLYGON ((-1473896.010 940...</td>\n",
       "    </tr>\n",
       "    <tr>\n",
       "      <th>3</th>\n",
       "      <td>SLE.4.2.1_1_14</td>\n",
       "      <td>SLE.4.2.1_1</td>\n",
       "      <td>SLE</td>\n",
       "      <td>1062</td>\n",
       "      <td>4</td>\n",
       "      <td>GEOMETRYCOLLECTION (POLYGON ((-1474033.158 939...</td>\n",
       "    </tr>\n",
       "    <tr>\n",
       "      <th>4</th>\n",
       "      <td>SLE.4.2.1_1_14</td>\n",
       "      <td>SLE.4.2.1_1</td>\n",
       "      <td>SLE</td>\n",
       "      <td>838</td>\n",
       "      <td>5</td>\n",
       "      <td>GEOMETRYCOLLECTION (POLYGON ((-1473971.535 939...</td>\n",
       "    </tr>\n",
       "  </tbody>\n",
       "</table>\n",
       "</div>"
      ],
      "text/plain": [
       "         block_id    gadm_code country_code  building_count  k_complexity  \\\n",
       "0  SLE.4.2.1_1_14  SLE.4.2.1_1          SLE            1225             1   \n",
       "1  SLE.4.2.1_1_14  SLE.4.2.1_1          SLE            1743             2   \n",
       "2  SLE.4.2.1_1_14  SLE.4.2.1_1          SLE            1371             3   \n",
       "3  SLE.4.2.1_1_14  SLE.4.2.1_1          SLE            1062             4   \n",
       "4  SLE.4.2.1_1_14  SLE.4.2.1_1          SLE             838             5   \n",
       "\n",
       "                                            geometry  \n",
       "0  GEOMETRYCOLLECTION (POLYGON ((-1474140.642 939...  \n",
       "1  GEOMETRYCOLLECTION (POLYGON ((-1474114.043 939...  \n",
       "2  GEOMETRYCOLLECTION (POLYGON ((-1473896.010 940...  \n",
       "3  GEOMETRYCOLLECTION (POLYGON ((-1474033.158 939...  \n",
       "4  GEOMETRYCOLLECTION (POLYGON ((-1473971.535 939...  "
      ]
     },
     "execution_count": 20,
     "metadata": {},
     "output_type": "execute_result"
    }
   ],
   "source": [
    "k_layers.head(5)"
   ]
  },
  {
   "cell_type": "code",
   "execution_count": 21,
   "id": "e290e3ee",
   "metadata": {},
   "outputs": [
    {
     "data": {
      "text/plain": [
       "<AxesSubplot:>"
      ]
     },
     "execution_count": 21,
     "metadata": {},
     "output_type": "execute_result"
    },
    {
     "data": {
      "image/png": "[encoded data removed]",
      "text/plain": [
       "<Figure size 432x288 with 2 Axes>"
      ]
     },
     "metadata": {
      "needs_background": "light"
     },
     "output_type": "display_data"
    }
   ],
   "source": [
    "k_layers.plot(column='k_complexity', legend=True, cmap = 'viridis')\n"
   ]
  },
  {
   "cell_type": "markdown",
   "id": "3b0a950d",
   "metadata": {},
   "source": [
    "#### Test *k*-function on a series of blocks"
   ]
  },
  {
   "cell_type": "code",
   "execution_count": 22,
   "id": "c476fb7c",
   "metadata": {},
   "outputs": [],
   "source": [
    "test_sequence = ['SLE.4.2.1_1_47', 'SLE.4.2.1_1_62', 'SLE.4.2.1_1_117', 'SLE.4.2.1_1_207', 'SLE.4.2.1_1_294', \n",
    "                 'SLE.4.2.1_1_244', 'SLE.4.2.1_1_347', 'SLE.4.2.1_1_348', 'SLE.4.2.1_1_550', 'SLE.4.2.1_1_1045']\n"
   ]
  },
  {
   "cell_type": "markdown",
   "id": "eae0fcd7",
   "metadata": {},
   "source": [
    "#### Run *k*-function serially across blocks"
   ]
  },
  {
   "cell_type": "code",
   "execution_count": 23,
   "id": "9ab28fb2",
   "metadata": {},
   "outputs": [
    {
     "name": "stdout",
     "output_type": "stream",
     "text": [
      "CPU times: user 3.14 s, sys: 74.8 ms, total: 3.21 s\n",
      "Wall time: 3.17 s\n"
     ]
    }
   ],
   "source": [
    "%%time\n",
    "sequence_list = test_sequence\n",
    "results_serial = gpd.GeoDataFrame({'block_id': pd.Series(dtype='str'), 'gadm_code': pd.Series(dtype='str'), 'country_code': pd.Series(dtype='str'),\n",
    "                                    'block_area': pd.Series(dtype='float'), 'building_area': pd.Series(dtype='float'), \n",
    "                                    'building_count': pd.Series(dtype='int'), 'building_layers': pd.Series(dtype='object'),  'k_complexity': pd.Series(dtype='int'), \n",
    "                                    'geometry': pd.Series(dtype='geometry')}).set_crs(epsg=4326)\n",
    "\n",
    "block_metrics = []\n",
    "for x in sequence_list: \n",
    "    df_k = compute_k(block_data = gadm_blocks,\n",
    "                     bldg_data = block_coded_buildings, \n",
    "                     block_col = 'block_id', \n",
    "                     block_id = x,\n",
    "                     street_linestrings = osm_highways,\n",
    "                     buffer_streets=True)\n",
    "    block_metrics.append(df_k)\n",
    "        \n",
    "results_serial = results_serial.append(block_metrics, ignore_index=True)\n"
   ]
  },
  {
   "cell_type": "code",
   "execution_count": 24,
   "id": "d7ab15c7",
   "metadata": {},
   "outputs": [
    {
     "data": {
      "text/html": [
       "<div>\n",
       "<style scoped>\n",
       "    .dataframe tbody tr th:only-of-type {\n",
       "        vertical-align: middle;\n",
       "    }\n",
       "\n",
       "    .dataframe tbody tr th {\n",
       "        vertical-align: top;\n",
       "    }\n",
       "\n",
       "    .dataframe thead th {\n",
       "        text-align: right;\n",
       "    }\n",
       "</style>\n",
       "<table border=\"1\" class=\"dataframe\">\n",
       "  <thead>\n",
       "    <tr style=\"text-align: right;\">\n",
       "      <th></th>\n",
       "      <th>block_id</th>\n",
       "      <th>gadm_code</th>\n",
       "      <th>country_code</th>\n",
       "      <th>block_area</th>\n",
       "      <th>building_area</th>\n",
       "      <th>building_count</th>\n",
       "      <th>building_layers</th>\n",
       "      <th>k_complexity</th>\n",
       "      <th>geometry</th>\n",
       "    </tr>\n",
       "  </thead>\n",
       "  <tbody>\n",
       "    <tr>\n",
       "      <th>0</th>\n",
       "      <td>SLE.4.2.1_1_47</td>\n",
       "      <td>SLE.4.2.1_1</td>\n",
       "      <td>SLE</td>\n",
       "      <td>300415.44</td>\n",
       "      <td>55269.18</td>\n",
       "      <td>557</td>\n",
       "      <td>200,229,99,29</td>\n",
       "      <td>4</td>\n",
       "      <td>POLYGON ((-13.25976 8.46077, -13.25962 8.46098...</td>\n",
       "    </tr>\n",
       "    <tr>\n",
       "      <th>1</th>\n",
       "      <td>SLE.4.2.1_1_62</td>\n",
       "      <td>SLE.4.2.1_1</td>\n",
       "      <td>SLE</td>\n",
       "      <td>99286.11</td>\n",
       "      <td>24891.46</td>\n",
       "      <td>305</td>\n",
       "      <td>101,113,64,23,4</td>\n",
       "      <td>5</td>\n",
       "      <td>POLYGON ((-13.26070 8.45581, -13.26069 8.45582...</td>\n",
       "    </tr>\n",
       "    <tr>\n",
       "      <th>2</th>\n",
       "      <td>SLE.4.2.1_1_117</td>\n",
       "      <td>SLE.4.2.1_1</td>\n",
       "      <td>SLE</td>\n",
       "      <td>68680.85</td>\n",
       "      <td>11598.34</td>\n",
       "      <td>150</td>\n",
       "      <td>55,57,33,5</td>\n",
       "      <td>4</td>\n",
       "      <td>POLYGON ((-13.25831 8.45591, -13.25765 8.45623...</td>\n",
       "    </tr>\n",
       "    <tr>\n",
       "      <th>3</th>\n",
       "      <td>SLE.4.2.1_1_207</td>\n",
       "      <td>SLE.4.2.1_1</td>\n",
       "      <td>SLE</td>\n",
       "      <td>38522.72</td>\n",
       "      <td>2667.05</td>\n",
       "      <td>24</td>\n",
       "      <td>17,7</td>\n",
       "      <td>2</td>\n",
       "      <td>POLYGON ((-13.25570 8.46055, -13.25569 8.46063...</td>\n",
       "    </tr>\n",
       "    <tr>\n",
       "      <th>4</th>\n",
       "      <td>SLE.4.2.1_1_294</td>\n",
       "      <td>SLE.4.2.1_1</td>\n",
       "      <td>SLE</td>\n",
       "      <td>22055.77</td>\n",
       "      <td>2491.48</td>\n",
       "      <td>24</td>\n",
       "      <td>14,10</td>\n",
       "      <td>2</td>\n",
       "      <td>POLYGON ((-13.25408 8.45868, -13.25405 8.45870...</td>\n",
       "    </tr>\n",
       "  </tbody>\n",
       "</table>\n",
       "</div>"
      ],
      "text/plain": [
       "          block_id    gadm_code country_code  block_area  building_area  \\\n",
       "0   SLE.4.2.1_1_47  SLE.4.2.1_1          SLE   300415.44       55269.18   \n",
       "1   SLE.4.2.1_1_62  SLE.4.2.1_1          SLE    99286.11       24891.46   \n",
       "2  SLE.4.2.1_1_117  SLE.4.2.1_1          SLE    68680.85       11598.34   \n",
       "3  SLE.4.2.1_1_207  SLE.4.2.1_1          SLE    38522.72        2667.05   \n",
       "4  SLE.4.2.1_1_294  SLE.4.2.1_1          SLE    22055.77        2491.48   \n",
       "\n",
       "   building_count  building_layers  k_complexity  \\\n",
       "0             557    200,229,99,29             4   \n",
       "1             305  101,113,64,23,4             5   \n",
       "2             150       55,57,33,5             4   \n",
       "3              24             17,7             2   \n",
       "4              24            14,10             2   \n",
       "\n",
       "                                            geometry  \n",
       "0  POLYGON ((-13.25976 8.46077, -13.25962 8.46098...  \n",
       "1  POLYGON ((-13.26070 8.45581, -13.26069 8.45582...  \n",
       "2  POLYGON ((-13.25831 8.45591, -13.25765 8.45623...  \n",
       "3  POLYGON ((-13.25570 8.46055, -13.25569 8.46063...  \n",
       "4  POLYGON ((-13.25408 8.45868, -13.25405 8.45870...  "
      ]
     },
     "execution_count": 24,
     "metadata": {},
     "output_type": "execute_result"
    }
   ],
   "source": [
    "results_serial.head(5)"
   ]
  },
  {
   "cell_type": "code",
   "execution_count": 25,
   "id": "9075020f",
   "metadata": {},
   "outputs": [
    {
     "data": {
      "text/plain": [
       "<AxesSubplot:>"
      ]
     },
     "execution_count": 25,
     "metadata": {},
     "output_type": "execute_result"
    },
    {
     "data": {
      "image/png": "[encoded data removed]",
      "text/plain": [
       "<Figure size 432x288 with 2 Axes>"
      ]
     },
     "metadata": {
      "needs_background": "light"
     },
     "output_type": "display_data"
    }
   ],
   "source": [
    "results_serial.plot(column='k_complexity', legend=True, cmap = 'viridis')\n"
   ]
  },
  {
   "cell_type": "markdown",
   "id": "3412ec2e",
   "metadata": {},
   "source": [
    "#### Run *k*-function across 2-partitions of blocks in parallel"
   ]
  },
  {
   "cell_type": "code",
   "execution_count": 26,
   "id": "fdeeb3df",
   "metadata": {},
   "outputs": [
    {
     "name": "stdout",
     "output_type": "stream",
     "text": [
      "CPU times: user 4.78 s, sys: 802 ms, total: 5.59 s\n",
      "Wall time: 9.02 s\n"
     ]
    }
   ],
   "source": [
    "%%time\n",
    "bag_sequence = db.from_sequence(test_sequence, npartitions=2) # partition_size=2\n",
    "compute_sequence = bag_sequence.map(lambda x: compute_k(block_data = gadm_blocks,\n",
    "                                                        bldg_data = block_coded_buildings, \n",
    "                                                        block_col = 'block_id', \n",
    "                                                        block_id = x,\n",
    "                                                        street_linestrings = osm_highways,\n",
    "                                                        buffer_streets=True))\n",
    "\n",
    "output_sequence = compute_sequence.compute()\n",
    "#output_sequence = compute_sequence.persist() # use when on a cluster\n",
    "results_parallel = gpd.GeoDataFrame({'block_id': pd.Series(dtype='str'), 'gadm_code': pd.Series(dtype='str'), 'country_code': pd.Series(dtype='str'),\n",
    "                                    'block_area': pd.Series(dtype='float'), 'building_area': pd.Series(dtype='float'), \n",
    "                                    'building_count': pd.Series(dtype='int'), 'building_layers': pd.Series(dtype='object'),  'k_complexity': pd.Series(dtype='int'), \n",
    "                                    'geometry': pd.Series(dtype='geometry')}).set_crs(epsg=4326)\n",
    "\n",
    "for i,j in enumerate(output_sequence): results_parallel = results_parallel.append(output_sequence[i], \n",
    "                                                                                  ignore_index=True)\n"
   ]
  },
  {
   "cell_type": "code",
   "execution_count": 27,
   "id": "90a2ac20",
   "metadata": {},
   "outputs": [
    {
     "data": {
      "text/html": [
       "<div>\n",
       "<style scoped>\n",
       "    .dataframe tbody tr th:only-of-type {\n",
       "        vertical-align: middle;\n",
       "    }\n",
       "\n",
       "    .dataframe tbody tr th {\n",
       "        vertical-align: top;\n",
       "    }\n",
       "\n",
       "    .dataframe thead th {\n",
       "        text-align: right;\n",
       "    }\n",
       "</style>\n",
       "<table border=\"1\" class=\"dataframe\">\n",
       "  <thead>\n",
       "    <tr style=\"text-align: right;\">\n",
       "      <th></th>\n",
       "      <th>block_id</th>\n",
       "      <th>gadm_code</th>\n",
       "      <th>country_code</th>\n",
       "      <th>block_area</th>\n",
       "      <th>building_area</th>\n",
       "      <th>building_count</th>\n",
       "      <th>building_layers</th>\n",
       "      <th>k_complexity</th>\n",
       "      <th>geometry</th>\n",
       "    </tr>\n",
       "  </thead>\n",
       "  <tbody>\n",
       "    <tr>\n",
       "      <th>0</th>\n",
       "      <td>SLE.4.2.1_1_47</td>\n",
       "      <td>SLE.4.2.1_1</td>\n",
       "      <td>SLE</td>\n",
       "      <td>300415.44</td>\n",
       "      <td>55269.18</td>\n",
       "      <td>557</td>\n",
       "      <td>200,229,99,29</td>\n",
       "      <td>4</td>\n",
       "      <td>POLYGON ((-13.25976 8.46077, -13.25962 8.46098...</td>\n",
       "    </tr>\n",
       "    <tr>\n",
       "      <th>1</th>\n",
       "      <td>SLE.4.2.1_1_62</td>\n",
       "      <td>SLE.4.2.1_1</td>\n",
       "      <td>SLE</td>\n",
       "      <td>99286.11</td>\n",
       "      <td>24891.46</td>\n",
       "      <td>305</td>\n",
       "      <td>101,113,64,23,4</td>\n",
       "      <td>5</td>\n",
       "      <td>POLYGON ((-13.26070 8.45581, -13.26069 8.45582...</td>\n",
       "    </tr>\n",
       "    <tr>\n",
       "      <th>2</th>\n",
       "      <td>SLE.4.2.1_1_117</td>\n",
       "      <td>SLE.4.2.1_1</td>\n",
       "      <td>SLE</td>\n",
       "      <td>68680.85</td>\n",
       "      <td>11598.34</td>\n",
       "      <td>150</td>\n",
       "      <td>55,57,33,5</td>\n",
       "      <td>4</td>\n",
       "      <td>POLYGON ((-13.25831 8.45591, -13.25765 8.45623...</td>\n",
       "    </tr>\n",
       "    <tr>\n",
       "      <th>3</th>\n",
       "      <td>SLE.4.2.1_1_207</td>\n",
       "      <td>SLE.4.2.1_1</td>\n",
       "      <td>SLE</td>\n",
       "      <td>38522.72</td>\n",
       "      <td>2667.05</td>\n",
       "      <td>24</td>\n",
       "      <td>17,7</td>\n",
       "      <td>2</td>\n",
       "      <td>POLYGON ((-13.25570 8.46055, -13.25569 8.46063...</td>\n",
       "    </tr>\n",
       "    <tr>\n",
       "      <th>4</th>\n",
       "      <td>SLE.4.2.1_1_294</td>\n",
       "      <td>SLE.4.2.1_1</td>\n",
       "      <td>SLE</td>\n",
       "      <td>22055.77</td>\n",
       "      <td>2491.48</td>\n",
       "      <td>24</td>\n",
       "      <td>14,10</td>\n",
       "      <td>2</td>\n",
       "      <td>POLYGON ((-13.25408 8.45868, -13.25405 8.45870...</td>\n",
       "    </tr>\n",
       "  </tbody>\n",
       "</table>\n",
       "</div>"
      ],
      "text/plain": [
       "          block_id    gadm_code country_code  block_area  building_area  \\\n",
       "0   SLE.4.2.1_1_47  SLE.4.2.1_1          SLE   300415.44       55269.18   \n",
       "1   SLE.4.2.1_1_62  SLE.4.2.1_1          SLE    99286.11       24891.46   \n",
       "2  SLE.4.2.1_1_117  SLE.4.2.1_1          SLE    68680.85       11598.34   \n",
       "3  SLE.4.2.1_1_207  SLE.4.2.1_1          SLE    38522.72        2667.05   \n",
       "4  SLE.4.2.1_1_294  SLE.4.2.1_1          SLE    22055.77        2491.48   \n",
       "\n",
       "   building_count  building_layers  k_complexity  \\\n",
       "0             557    200,229,99,29             4   \n",
       "1             305  101,113,64,23,4             5   \n",
       "2             150       55,57,33,5             4   \n",
       "3              24             17,7             2   \n",
       "4              24            14,10             2   \n",
       "\n",
       "                                            geometry  \n",
       "0  POLYGON ((-13.25976 8.46077, -13.25962 8.46098...  \n",
       "1  POLYGON ((-13.26070 8.45581, -13.26069 8.45582...  \n",
       "2  POLYGON ((-13.25831 8.45591, -13.25765 8.45623...  \n",
       "3  POLYGON ((-13.25570 8.46055, -13.25569 8.46063...  \n",
       "4  POLYGON ((-13.25408 8.45868, -13.25405 8.45870...  "
      ]
     },
     "execution_count": 27,
     "metadata": {},
     "output_type": "execute_result"
    }
   ],
   "source": [
    "results_parallel.head(5)"
   ]
  },
  {
   "cell_type": "code",
   "execution_count": 28,
   "id": "09d1b902",
   "metadata": {},
   "outputs": [
    {
     "data": {
      "text/plain": [
       "<AxesSubplot:>"
      ]
     },
     "execution_count": 28,
     "metadata": {},
     "output_type": "execute_result"
    },
    {
     "data": {
      "image/png": "[encoded data removed]",
      "text/plain": [
       "<Figure size 432x288 with 2 Axes>"
      ]
     },
     "metadata": {
      "needs_background": "light"
     },
     "output_type": "display_data"
    }
   ],
   "source": [
    "results_parallel.plot(column='k_complexity', legend=True, cmap = 'viridis')"
   ]
  },
  {
   "cell_type": "markdown",
   "id": "25363026",
   "metadata": {},
   "source": [
    "#### Run serialized computation over *n* GADM areas, subdivide into *n* blocks, and serially iterate through hundreds of blocks"
   ]
  },
  {
   "cell_type": "code",
   "execution_count": 29,
   "id": "5cd0f9ab",
   "metadata": {},
   "outputs": [
    {
     "name": "stdout",
     "output_type": "stream",
     "text": [
      "SLE.1.1.2_1\n",
      "CPU times: user 38.5 s, sys: 986 ms, total: 39.5 s\n",
      "Wall time: 39 s\n"
     ]
    }
   ],
   "source": [
    "%%time\n",
    "\n",
    "k_output_serial = gpd.GeoDataFrame({'block_id': pd.Series(dtype='str'), 'gadm_code': pd.Series(dtype='str'), 'country_code': pd.Series(dtype='str'),\n",
    "                                    'block_area': pd.Series(dtype='float'), 'building_area': pd.Series(dtype='float'), \n",
    "                                    'building_count': pd.Series(dtype='int'), 'building_layers': pd.Series(dtype='object'),  'k_complexity': pd.Series(dtype='int'), \n",
    "                                    'geometry': pd.Series(dtype='geometry')}).set_crs(epsg=4326)\n",
    "\n",
    "#freelist = ['SLE.4.1.4_1'] 'SLE.4.1.2_1', 'SLE.4.1.1_1', 'SLE.4.1.3_1','SLE.4.2.1_1'\n",
    "for i in gadm_list[1:2]: \n",
    "    print(i)\n",
    "    gadm_blocks = build_blocks(gadm_data = gadm_gpd, \n",
    "                               osm_data = osm_pygeos, \n",
    "                               gadm_level = gadm_level,\n",
    "                               gadm_code = i)\n",
    "\n",
    "    gadm_blocks_list = list(gadm_blocks['block_id'].unique())\n",
    "    \n",
    "    building_file = list(filter(re.compile(str(\"%s\" % i +'.geojson')).findall, sorted(building_files)))[0]\n",
    "    building_gpd = gpd.read_file(str(building_path + country_code + '/' + building_file)).to_crs(epsg=4326)\n",
    "    \n",
    "    block_coded_buildings = index_buildings(gadm_block_data = gadm_blocks, \n",
    "                                            bldg_data = building_gpd)\n",
    "    \n",
    "    block_metrics = []\n",
    "    \n",
    "    for x in gadm_blocks_list: \n",
    "        #print(x)\n",
    "        df_k = compute_k(block_data = gadm_blocks,\n",
    "                         bldg_data = block_coded_buildings, \n",
    "                         block_col = 'block_id', \n",
    "                         block_id = x,\n",
    "                         street_linestrings = osm_highways,\n",
    "                         buffer_streets=True)\n",
    "        block_metrics.append(df_k)\n",
    "        \n",
    "    k_output_serial = k_output_serial.append(block_metrics, ignore_index=True)\n",
    "\n"
   ]
  },
  {
   "cell_type": "code",
   "execution_count": 30,
   "id": "a5b1838a",
   "metadata": {},
   "outputs": [
    {
     "data": {
      "text/html": [
       "<div>\n",
       "<style scoped>\n",
       "    .dataframe tbody tr th:only-of-type {\n",
       "        vertical-align: middle;\n",
       "    }\n",
       "\n",
       "    .dataframe tbody tr th {\n",
       "        vertical-align: top;\n",
       "    }\n",
       "\n",
       "    .dataframe thead th {\n",
       "        text-align: right;\n",
       "    }\n",
       "</style>\n",
       "<table border=\"1\" class=\"dataframe\">\n",
       "  <thead>\n",
       "    <tr style=\"text-align: right;\">\n",
       "      <th></th>\n",
       "      <th>block_id</th>\n",
       "      <th>gadm_code</th>\n",
       "      <th>country_code</th>\n",
       "      <th>block_area</th>\n",
       "      <th>building_area</th>\n",
       "      <th>building_count</th>\n",
       "      <th>building_layers</th>\n",
       "      <th>k_complexity</th>\n",
       "      <th>geometry</th>\n",
       "    </tr>\n",
       "  </thead>\n",
       "  <tbody>\n",
       "    <tr>\n",
       "      <th>0</th>\n",
       "      <td>SLE.1.1.2_1_0</td>\n",
       "      <td>SLE.1.1.2_1</td>\n",
       "      <td>SLE</td>\n",
       "      <td>32814030.79</td>\n",
       "      <td>29160.87</td>\n",
       "      <td>465</td>\n",
       "      <td>145,182,104,30,4</td>\n",
       "      <td>5</td>\n",
       "      <td>POLYGON ((-10.99324 7.83366, -10.99322 7.83454...</td>\n",
       "    </tr>\n",
       "    <tr>\n",
       "      <th>1</th>\n",
       "      <td>SLE.1.1.2_1_1</td>\n",
       "      <td>SLE.1.1.2_1</td>\n",
       "      <td>SLE</td>\n",
       "      <td>82795637.08</td>\n",
       "      <td>39242.52</td>\n",
       "      <td>728</td>\n",
       "      <td>257,291,146,33,1</td>\n",
       "      <td>5</td>\n",
       "      <td>POLYGON ((-10.96699 7.77914, -10.96660 7.77911...</td>\n",
       "    </tr>\n",
       "    <tr>\n",
       "      <th>2</th>\n",
       "      <td>SLE.1.1.2_1_2</td>\n",
       "      <td>SLE.1.1.2_1</td>\n",
       "      <td>SLE</td>\n",
       "      <td>10540446.51</td>\n",
       "      <td>15084.58</td>\n",
       "      <td>252</td>\n",
       "      <td>67,89,67,25,4</td>\n",
       "      <td>5</td>\n",
       "      <td>POLYGON ((-10.93411 7.83798, -10.93391 7.83814...</td>\n",
       "    </tr>\n",
       "    <tr>\n",
       "      <th>3</th>\n",
       "      <td>SLE.1.1.2_1_3</td>\n",
       "      <td>SLE.1.1.2_1</td>\n",
       "      <td>SLE</td>\n",
       "      <td>20948405.32</td>\n",
       "      <td>25262.90</td>\n",
       "      <td>365</td>\n",
       "      <td>70,112,104,64,15</td>\n",
       "      <td>5</td>\n",
       "      <td>POLYGON ((-11.01570 7.88252, -11.01565 7.88273...</td>\n",
       "    </tr>\n",
       "    <tr>\n",
       "      <th>4</th>\n",
       "      <td>SLE.1.1.2_1_4</td>\n",
       "      <td>SLE.1.1.2_1</td>\n",
       "      <td>SLE</td>\n",
       "      <td>9024868.63</td>\n",
       "      <td>6420.80</td>\n",
       "      <td>122</td>\n",
       "      <td>40,42,34,6</td>\n",
       "      <td>4</td>\n",
       "      <td>POLYGON ((-10.96316 7.89072, -10.96315 7.89080...</td>\n",
       "    </tr>\n",
       "  </tbody>\n",
       "</table>\n",
       "</div>"
      ],
      "text/plain": [
       "        block_id    gadm_code country_code   block_area  building_area  \\\n",
       "0  SLE.1.1.2_1_0  SLE.1.1.2_1          SLE  32814030.79       29160.87   \n",
       "1  SLE.1.1.2_1_1  SLE.1.1.2_1          SLE  82795637.08       39242.52   \n",
       "2  SLE.1.1.2_1_2  SLE.1.1.2_1          SLE  10540446.51       15084.58   \n",
       "3  SLE.1.1.2_1_3  SLE.1.1.2_1          SLE  20948405.32       25262.90   \n",
       "4  SLE.1.1.2_1_4  SLE.1.1.2_1          SLE   9024868.63        6420.80   \n",
       "\n",
       "   building_count   building_layers  k_complexity  \\\n",
       "0             465  145,182,104,30,4             5   \n",
       "1             728  257,291,146,33,1             5   \n",
       "2             252     67,89,67,25,4             5   \n",
       "3             365  70,112,104,64,15             5   \n",
       "4             122        40,42,34,6             4   \n",
       "\n",
       "                                            geometry  \n",
       "0  POLYGON ((-10.99324 7.83366, -10.99322 7.83454...  \n",
       "1  POLYGON ((-10.96699 7.77914, -10.96660 7.77911...  \n",
       "2  POLYGON ((-10.93411 7.83798, -10.93391 7.83814...  \n",
       "3  POLYGON ((-11.01570 7.88252, -11.01565 7.88273...  \n",
       "4  POLYGON ((-10.96316 7.89072, -10.96315 7.89080...  "
      ]
     },
     "execution_count": 30,
     "metadata": {},
     "output_type": "execute_result"
    }
   ],
   "source": [
    "k_output_serial.head(5)"
   ]
  },
  {
   "cell_type": "code",
   "execution_count": 31,
   "id": "183ca1b6",
   "metadata": {},
   "outputs": [
    {
     "data": {
      "text/plain": [
       "<AxesSubplot:>"
      ]
     },
     "execution_count": 31,
     "metadata": {},
     "output_type": "execute_result"
    },
    {
     "data": {
      "image/png": "[encoded data removed]",
      "text/plain": [
       "<Figure size 432x288 with 1 Axes>"
      ]
     },
     "metadata": {
      "needs_background": "light"
     },
     "output_type": "display_data"
    }
   ],
   "source": [
    "k_output_serial.plot(column='k_complexity', legend=False, cmap = 'viridis')\n"
   ]
  },
  {
   "cell_type": "code",
   "execution_count": 32,
   "id": "baf1fb3b",
   "metadata": {},
   "outputs": [
    {
     "data": {
      "text/plain": [
       "block_id             object\n",
       "gadm_code            object\n",
       "country_code         object\n",
       "block_area          float64\n",
       "building_area       float64\n",
       "building_count        int64\n",
       "building_layers      object\n",
       "k_complexity          int64\n",
       "geometry           geometry\n",
       "dtype: object"
      ]
     },
     "execution_count": 32,
     "metadata": {},
     "output_type": "execute_result"
    }
   ],
   "source": [
    "k_output_serial.dtypes"
   ]
  },
  {
   "cell_type": "markdown",
   "id": "7e8fbbe5",
   "metadata": {},
   "source": [
    "#### Run serialized computation over *n* GADM areas, subdivide into *n* blocks, and parallelize block-level computation"
   ]
  },
  {
   "cell_type": "code",
   "execution_count": 33,
   "id": "11747081",
   "metadata": {},
   "outputs": [
    {
     "name": "stdout",
     "output_type": "stream",
     "text": [
      "SLE.1.1.2_1\n",
      "CPU times: user 4.79 s, sys: 537 ms, total: 5.32 s\n",
      "Wall time: 40.8 s\n"
     ]
    }
   ],
   "source": [
    "%%time\n",
    "k_output_parallel = gpd.GeoDataFrame({'block_id': pd.Series(dtype='str'), 'gadm_code': pd.Series(dtype='str'), 'country_code': pd.Series(dtype='str'),\n",
    "                                    'block_area': pd.Series(dtype='float'), 'building_area': pd.Series(dtype='float'), \n",
    "                                    'building_count': pd.Series(dtype='int'), 'building_layers': pd.Series(dtype='object'),  'k_complexity': pd.Series(dtype='int'), \n",
    "                                    'geometry': pd.Series(dtype='geometry')}).set_crs(epsg=4326)\n",
    "\n",
    "for i in gadm_list[1:2]: \n",
    "    print(i)\n",
    "    gadm_blocks = build_blocks(gadm_data = gadm_gpd, \n",
    "                               osm_data = osm_pygeos, \n",
    "                               gadm_level = gadm_level,\n",
    "                               gadm_code = i)\n",
    "\n",
    "    gadm_blocks_list = list(gadm_blocks['block_id'].unique())\n",
    "    \n",
    "    building_file = list(filter(re.compile(str(\"%s\" % i +'.geojson')).findall, sorted(building_files)))[0]\n",
    "    building_gpd = gpd.read_file(str(building_path + country_code + '/' + building_file)).to_crs(epsg=4326)\n",
    "    \n",
    "    block_coded_buildings = index_buildings(gadm_block_data = gadm_blocks, \n",
    "                                            bldg_data = building_gpd)\n",
    "    \n",
    "    bag_sequence = db.from_sequence(gadm_blocks_list, npartitions=2) #partition_size=2\n",
    "    compute_sequence = bag_sequence.map(lambda x: compute_k(block_data = gadm_blocks,\n",
    "                                                            bldg_data = block_coded_buildings, \n",
    "                                                            block_col = 'block_id', \n",
    "                                                            block_id = x,\n",
    "                                                            street_linestrings = osm_highways,\n",
    "                                                            buffer_streets=True))\n",
    "        \n",
    "    output_sequence = compute_sequence.compute()\n",
    "    #output_sequence = compute_sequence.persist() # use when on a cluster\n",
    "    for i,j in enumerate(output_sequence): k_output_parallel = k_output_parallel.append(output_sequence[i], \n",
    "                                                                                        ignore_index=True)\n",
    "\n"
   ]
  },
  {
   "cell_type": "code",
   "execution_count": 34,
   "id": "1db6d5bf",
   "metadata": {},
   "outputs": [
    {
     "data": {
      "text/html": [
       "<div>\n",
       "<style scoped>\n",
       "    .dataframe tbody tr th:only-of-type {\n",
       "        vertical-align: middle;\n",
       "    }\n",
       "\n",
       "    .dataframe tbody tr th {\n",
       "        vertical-align: top;\n",
       "    }\n",
       "\n",
       "    .dataframe thead th {\n",
       "        text-align: right;\n",
       "    }\n",
       "</style>\n",
       "<table border=\"1\" class=\"dataframe\">\n",
       "  <thead>\n",
       "    <tr style=\"text-align: right;\">\n",
       "      <th></th>\n",
       "      <th>block_id</th>\n",
       "      <th>gadm_code</th>\n",
       "      <th>country_code</th>\n",
       "      <th>block_area</th>\n",
       "      <th>building_area</th>\n",
       "      <th>building_count</th>\n",
       "      <th>building_layers</th>\n",
       "      <th>k_complexity</th>\n",
       "      <th>geometry</th>\n",
       "    </tr>\n",
       "  </thead>\n",
       "  <tbody>\n",
       "    <tr>\n",
       "      <th>0</th>\n",
       "      <td>SLE.1.1.2_1_0</td>\n",
       "      <td>SLE.1.1.2_1</td>\n",
       "      <td>SLE</td>\n",
       "      <td>32814030.79</td>\n",
       "      <td>29160.87</td>\n",
       "      <td>465</td>\n",
       "      <td>145,182,104,30,4</td>\n",
       "      <td>5</td>\n",
       "      <td>POLYGON ((-10.99324 7.83366, -10.99322 7.83454...</td>\n",
       "    </tr>\n",
       "    <tr>\n",
       "      <th>1</th>\n",
       "      <td>SLE.1.1.2_1_1</td>\n",
       "      <td>SLE.1.1.2_1</td>\n",
       "      <td>SLE</td>\n",
       "      <td>82795637.08</td>\n",
       "      <td>39242.52</td>\n",
       "      <td>728</td>\n",
       "      <td>257,291,146,33,1</td>\n",
       "      <td>5</td>\n",
       "      <td>POLYGON ((-10.96699 7.77914, -10.96660 7.77911...</td>\n",
       "    </tr>\n",
       "    <tr>\n",
       "      <th>2</th>\n",
       "      <td>SLE.1.1.2_1_2</td>\n",
       "      <td>SLE.1.1.2_1</td>\n",
       "      <td>SLE</td>\n",
       "      <td>10540446.51</td>\n",
       "      <td>15084.58</td>\n",
       "      <td>252</td>\n",
       "      <td>67,89,67,25,4</td>\n",
       "      <td>5</td>\n",
       "      <td>POLYGON ((-10.93411 7.83798, -10.93391 7.83814...</td>\n",
       "    </tr>\n",
       "    <tr>\n",
       "      <th>3</th>\n",
       "      <td>SLE.1.1.2_1_3</td>\n",
       "      <td>SLE.1.1.2_1</td>\n",
       "      <td>SLE</td>\n",
       "      <td>20948405.32</td>\n",
       "      <td>25262.90</td>\n",
       "      <td>365</td>\n",
       "      <td>70,112,104,64,15</td>\n",
       "      <td>5</td>\n",
       "      <td>POLYGON ((-11.01570 7.88252, -11.01565 7.88273...</td>\n",
       "    </tr>\n",
       "    <tr>\n",
       "      <th>4</th>\n",
       "      <td>SLE.1.1.2_1_4</td>\n",
       "      <td>SLE.1.1.2_1</td>\n",
       "      <td>SLE</td>\n",
       "      <td>9024868.63</td>\n",
       "      <td>6420.80</td>\n",
       "      <td>122</td>\n",
       "      <td>40,42,34,6</td>\n",
       "      <td>4</td>\n",
       "      <td>POLYGON ((-10.96316 7.89072, -10.96315 7.89080...</td>\n",
       "    </tr>\n",
       "  </tbody>\n",
       "</table>\n",
       "</div>"
      ],
      "text/plain": [
       "        block_id    gadm_code country_code   block_area  building_area  \\\n",
       "0  SLE.1.1.2_1_0  SLE.1.1.2_1          SLE  32814030.79       29160.87   \n",
       "1  SLE.1.1.2_1_1  SLE.1.1.2_1          SLE  82795637.08       39242.52   \n",
       "2  SLE.1.1.2_1_2  SLE.1.1.2_1          SLE  10540446.51       15084.58   \n",
       "3  SLE.1.1.2_1_3  SLE.1.1.2_1          SLE  20948405.32       25262.90   \n",
       "4  SLE.1.1.2_1_4  SLE.1.1.2_1          SLE   9024868.63        6420.80   \n",
       "\n",
       "   building_count   building_layers  k_complexity  \\\n",
       "0             465  145,182,104,30,4             5   \n",
       "1             728  257,291,146,33,1             5   \n",
       "2             252     67,89,67,25,4             5   \n",
       "3             365  70,112,104,64,15             5   \n",
       "4             122        40,42,34,6             4   \n",
       "\n",
       "                                            geometry  \n",
       "0  POLYGON ((-10.99324 7.83366, -10.99322 7.83454...  \n",
       "1  POLYGON ((-10.96699 7.77914, -10.96660 7.77911...  \n",
       "2  POLYGON ((-10.93411 7.83798, -10.93391 7.83814...  \n",
       "3  POLYGON ((-11.01570 7.88252, -11.01565 7.88273...  \n",
       "4  POLYGON ((-10.96316 7.89072, -10.96315 7.89080...  "
      ]
     },
     "execution_count": 34,
     "metadata": {},
     "output_type": "execute_result"
    }
   ],
   "source": [
    "k_output_parallel.head(5)"
   ]
  },
  {
   "cell_type": "code",
   "execution_count": 35,
   "id": "390ec787",
   "metadata": {},
   "outputs": [
    {
     "data": {
      "text/plain": [
       "<AxesSubplot:>"
      ]
     },
     "execution_count": 35,
     "metadata": {},
     "output_type": "execute_result"
    },
    {
     "data": {
      "image/png": "[encoded data removed]",
      "text/plain": [
       "<Figure size 432x288 with 1 Axes>"
      ]
     },
     "metadata": {
      "needs_background": "light"
     },
     "output_type": "display_data"
    }
   ],
   "source": [
    "k_output_parallel.plot(column='k_complexity', legend=False, cmap = 'viridis')\n"
   ]
  },
  {
   "cell_type": "markdown",
   "id": "9aaa307d",
   "metadata": {},
   "source": [
    "## Write Outputs"
   ]
  },
  {
   "cell_type": "code",
   "execution_count": 36,
   "id": "be71a1b7",
   "metadata": {},
   "outputs": [
    {
     "name": "stdout",
     "output_type": "stream",
     "text": [
      "epsg:4326\n",
      "epsg:3395\n"
     ]
    }
   ],
   "source": [
    "print(k_output_serial.crs)\n",
    "print(k_layers.crs)"
   ]
  },
  {
   "cell_type": "markdown",
   "id": "7b152a9f",
   "metadata": {},
   "source": [
    "#### Write block-level output for an entire GADM to GeoJSON and Parquet file"
   ]
  },
  {
   "cell_type": "code",
   "execution_count": 37,
   "id": "ed34d921",
   "metadata": {},
   "outputs": [],
   "source": [
    "k_output_serial.to_file('/Users/nm/Desktop/kblock_test.geojson', driver='GeoJSON') \n",
    "warnings.filterwarnings('ignore', message='.*initial implementation of Parquet.*')\n",
    "k_output_serial.to_parquet('/Users/nm/Desktop/kblock_test.parquet')  \n"
   ]
  },
  {
   "cell_type": "markdown",
   "id": "3376e108",
   "metadata": {},
   "source": [
    "#### Write *k*-layer output with buildings and streets for an individual block to GeoJSON file"
   ]
  },
  {
   "cell_type": "code",
   "execution_count": 38,
   "id": "c3eca595",
   "metadata": {},
   "outputs": [],
   "source": [
    "# Complexity layers in block 'SLE.4.2.1_1_14'\n",
    "k_layers.to_file('/Users/nm/Desktop/k_layer.geojson', driver='GeoJSON')\n",
    "\n",
    "# Buildings in block 'SLE.4.2.1_1_14'\n",
    "gadm_blocks = build_blocks(gadm_data = gadm_gpd, osm_data = osm_pygeos, gadm_level = '3', gadm_code = 'SLE.4.2.1_1')\n",
    "building_gpd = gpd.read_file(str(building_path + 'SLE/buildings_SLE.4.2.1_1.geojson')).to_crs(epsg=4326)\n",
    "block_coded_buildings = index_buildings(gadm_block_data = gadm_blocks, bldg_data = building_gpd)\n",
    "k_layers_buildings = block_coded_buildings[block_coded_buildings['block_id'] == 'SLE.4.2.1_1_14'].to_crs(epsg=3395)\n",
    "k_layers_buildings.to_file('/Users/nm/Desktop/k_layer_bldgs.geojson', driver='GeoJSON') \n",
    "\n",
    "# Streets in block 'SLE.4.2.1_1_14'\n",
    "k_layers_streets = pygeos.intersection(pygeos.multilinestrings(osm_highways), pygeos.coverage_union_all(pygeos.from_shapely(k_layers['geometry'])))\n",
    "connected_streets = pygeos.get_parts(pygeos.buffer(k_layers_streets, radius=30, quadsegs=5)) \n",
    "connected_streets = connected_streets[pygeos.length(connected_streets).argsort()[::-1] == 0]\n",
    "k_layers_streets = pygeos.intersection(k_layers_streets,connected_streets)\n",
    "k_layers_streets = gpd.GeoDataFrame({'streets':1,\"geometry\": gpd.GeoSeries(pygeos.to_shapely(k_layers_streets))}).set_crs(epsg=3395)  \n",
    "k_layers_streets.to_file('/Users/nm/Desktop/k_layer_streets.geojson', driver='GeoJSON')  \n"
   ]
  }
 ],
 "metadata": {
  "kernelspec": {
   "display_name": "Python [conda env:pygeos_env] *",
   "language": "python",
   "name": "conda-env-pygeos_env-py"
  },
  "language_info": {
   "codemirror_mode": {
    "name": "ipython",
    "version": 3
   },
   "file_extension": ".py",
   "mimetype": "text/x-python",
   "name": "python",
   "nbconvert_exporter": "python",
   "pygments_lexer": "ipython3",
   "version": "3.9.5"
  }
 },
 "nbformat": 4,
 "nbformat_minor": 5
}
