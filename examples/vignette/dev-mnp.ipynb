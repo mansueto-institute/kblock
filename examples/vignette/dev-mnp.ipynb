{
 "cells": [
  {
   "cell_type": "markdown",
   "id": "65b8fb03",
   "metadata": {},
   "source": [
    "# Computing *k* at the block and sub-block level serially and in parallel\n",
    "\n",
    "10-01-2021 | nmarchio@uchicago.edu | Mansueto Institute"
   ]
  },
  {
   "cell_type": "markdown",
   "id": "ee411bf7",
   "metadata": {},
   "source": [
    "#### Conda environment setup\n",
    "```\n",
    "conda create --name pygeos_env python=3.9.5\n",
    "source activate pygeos_env\n",
    "conda config --env --add channels conda-forge\n",
    "conda config --env --set channel_priority strict\n",
    "conda install pygeos --channel conda-forge\n",
    "conda install geopandas\n",
    "conda install gdal --channel conda-forge\n",
    "conda install -c conda-forge pyarrow\n",
    "conda install libpysal\n",
    "conda install dask\n",
    "conda install time \n",
    "```\n",
    "#### Additional installs for notebooks\n",
    "```\n",
    "conda install ipykernel\n",
    "conda install -c conda-forge notebook\n",
    "conda install -c conda-forge nb_conda_kernels\n",
    "conda install jupyter\n",
    "python -m ipykernel install --user --name=pygeos_env\n",
    "```"
   ]
  },
  {
   "cell_type": "code",
   "execution_count": 1,
   "id": "da031d85",
   "metadata": {},
   "outputs": [],
   "source": [
    "import time\n",
    "import warnings\n",
    "warnings.filterwarnings('ignore', message='.*distributed.diskutils - INFO - *')\n",
    "from dask.distributed import Client\n",
    "client = Client(n_workers=4) # adjust as needed\n",
    "import dask.bag as db\n",
    "import dask"
   ]
  },
  {
   "cell_type": "code",
   "execution_count": 2,
   "id": "aaa91085",
   "metadata": {},
   "outputs": [],
   "source": [
    "import pygeos\n",
    "import numpy as np\n",
    "import pandas as pd\n",
    "import geopandas as gpd\n",
    "import shapely\n",
    "import pyarrow\n",
    "import re\n",
    "import os\n",
    "gpd.options.use_pygeos = True"
   ]
  },
  {
   "cell_type": "code",
   "execution_count": 3,
   "id": "a45729a0",
   "metadata": {},
   "outputs": [],
   "source": [
    "def build_blocks(gadm_data, osm_data, gadm_level, gadm_code):\n",
    "    \"\"\"\n",
    "    Returns a GeoDataFrame containing all blocks in a GADM\n",
    "    Args:\n",
    "        gadm_data: GeoDataFrame, containing GADM delineations (downloaded from https://gadm.org/data.html)\n",
    "        osm_data: PyGEOS geometry array, of linestrings that delineate blocks within GADMs (i.e., OSM linestrings from from http://download.geofabrik.de/)\n",
    "        gadm_level: string, integer representing most detailed GID_* column in gadm_data\n",
    "        gadm_code: string, unique identification code for each GADM GID_* column in gadm_data\n",
    "    Returns:\n",
    "        GeoDataFrame with enclosed block delineation geometries for a given 'gadm_code', each block is assigned a unique 'block_id'.\n",
    "    \"\"\"\n",
    "    gadm_data = pygeos.from_shapely(gadm_data[gadm_data['GID_'+ gadm_level] == gadm_code]['geometry'])\n",
    "    osm_data = pygeos.intersection(pygeos.multilinestrings(osm_data),gadm_data)\n",
    "    gadm_data = pygeos.line_merge(pygeos.multilinestrings(pygeos.get_exterior_ring(gadm_data)))\n",
    "    gadm_blocks = pygeos.union(osm_data[0],gadm_data)\n",
    "    gadm_blocks = pygeos.polygonize_full([gadm_blocks])\n",
    "    gadm_blocks = gpd.GeoDataFrame({\"country_code\": gadm_code[0:3], \"gadm_code\": gadm_code, \"geometry\": gpd.GeoSeries([pygeos.to_shapely(pygeos.normalize(gadm_blocks[0]))])}, crs=4326).explode()         \n",
    "    gadm_blocks = gadm_blocks.reset_index(drop=True)\n",
    "    gadm_blocks = gadm_blocks.assign(block_id = [gadm_code + '_' + str(x) for x in list(gadm_blocks.index)])\n",
    "    gadm_blocks = gadm_blocks[['block_id','gadm_code','country_code','geometry']].to_crs(epsg=3395)\n",
    "    return gadm_blocks\n"
   ]
  },
  {
   "cell_type": "code",
   "execution_count": 4,
   "id": "5264fd8c",
   "metadata": {},
   "outputs": [],
   "source": [
    "def index_buildings(gadm_block_data, bldg_data):\n",
    "    \"\"\"\n",
    "    Returns a GeoDataFrame containing \n",
    "    Args:\n",
    "        gadm_block_data: GeoDataFrame, output returned from build_blocks() function\n",
    "        bldg_data: GeoDataFrame, containing building geometries\n",
    "    Returns:\n",
    "        GeoDataFrame with building geometries mapped to 'block_id','gadm_code','country_code'.\n",
    "    \"\"\"\n",
    "    gadm_block_data = gadm_block_data.to_crs(epsg=3395)\n",
    "    bldg_data = bldg_data.to_crs(epsg=3395)\n",
    "    bldg_points = bldg_data.copy()\n",
    "    bldg_points['geometry'] = bldg_points.centroid\n",
    "    bldg_index = bldg_points.sindex\n",
    "    index_bulk = bldg_index.query_bulk(gadm_block_data['geometry'], predicate=\"intersects\")\n",
    "    blocks_buildings_map = pd.DataFrame({'index_blocks': index_bulk[0], 'index_buildings': index_bulk[1]})\n",
    "    blocks_buildings_map = blocks_buildings_map.merge(bldg_data[['geometry']], how = 'left', left_on='index_buildings', right_index=True)\n",
    "    blocks_buildings_map = blocks_buildings_map.merge(gadm_block_data[['block_id','gadm_code','country_code']], left_on='index_blocks', right_index=True)\n",
    "    bldg_data = gpd.GeoDataFrame(blocks_buildings_map[['block_id','gadm_code','country_code','geometry']]).to_crs(epsg=3395)\n",
    "    return bldg_data\n"
   ]
  },
  {
   "cell_type": "code",
   "execution_count": 5,
   "id": "e8acda9e",
   "metadata": {
    "scrolled": false
   },
   "outputs": [],
   "source": [
    "def compute_k(block_data, bldg_data, block_col, block_id, street_linestrings=None):\n",
    "    \"\"\"\n",
    "    Returns a GeoDataFrame containing k-complexity value for each block\n",
    "    Args:\n",
    "        block_data: GeoDataFrame, output returned from build_blocks() function\n",
    "        bldg_data: GeoDataFrame, output returned from index_buildings() function\n",
    "        block_col: string, column that contains the block_id codes (present in block_data and bldg_data)\n",
    "        block_id: string, unique identification code of block_id string in block_col\n",
    "        street_linestrings: PyGEOS geometry array, linestrings representing street accesses (optional)\n",
    "    Returns:\n",
    "        GeoDataFrame with block geometries and the columns: \n",
    "            'block_id','block_area','building_area','building_count','building_layers','k_complexity'\n",
    "    \"\"\"\n",
    "    block_layers = [] \n",
    "\n",
    "    bldg_data = bldg_data[bldg_data[block_col] == block_id].to_crs(epsg=3395)\n",
    "    block_data = block_data[block_data[block_col] == block_id].to_crs(epsg=3395) \n",
    "    \n",
    "    country_code = block_data['country_code'].unique()[0] \n",
    "    gadm_code = block_data['gadm_code'].unique()[0] \n",
    "    \n",
    "    block_area = round(pygeos.area(pygeos.multipolygons(pygeos.from_shapely(block_data['geometry']))),2)\n",
    "    bldg_array = pygeos.from_shapely(bldg_data['geometry'])\n",
    "    bldg_area_list = pygeos.area(bldg_array)\n",
    "    bldg_area = round(sum(bldg_area_list),2)\n",
    "    bldg_count = np.sum(pygeos.get_num_geometries(bldg_array))\n",
    "        \n",
    "    if bldg_count not in [1,0]:\n",
    "            \n",
    "        bldg_data[\"geometry\"] = bldg_data.centroid\n",
    "        building_points = pygeos.multipoints(pygeos.from_shapely(bldg_data[\"geometry\"]))\n",
    "        points = pygeos.get_parts(building_points)\n",
    "        voronoi = pygeos.get_parts(pygeos.voronoi_polygons(building_points))\n",
    "        block = pygeos.from_shapely(block_data['geometry'])\n",
    "        if not pygeos.is_valid(block): block = pygeos.make_valid(block)\n",
    "        block_parcels = pygeos.intersection(block, voronoi)    \n",
    "        bldg_count = np.sum(pygeos.get_num_geometries(block_parcels))\n",
    "\n",
    "        if street_linestrings is not None:\n",
    "            street_linestrings = pygeos.intersection(pygeos.multilinestrings(street_linestrings),block)\n",
    "            block_intersect = pygeos.intersects(street_linestrings,block_parcels)\n",
    "            block_parcels_outer = block_parcels[block_intersect]\n",
    "            block_layers.append( str(np.sum(pygeos.get_num_geometries(block_parcels_outer))))\n",
    "            block_depth = len(block_layers)\n",
    "            block_parcels = block_parcels[~block_intersect]\n",
    "\n",
    "        parcel_residual = np.sum(pygeos.get_num_geometries(block_parcels))\n",
    "\n",
    "        while parcel_residual > 0:\n",
    "\n",
    "            block_reduced = pygeos.coverage_union_all(block_parcels_outer)\n",
    "            block_parcels_inner = block_parcels[~pygeos.touches(block_parcels,block_reduced)]      \n",
    "            block_parcels_outer = block_parcels[pygeos.touches(block_parcels,block_reduced)] \n",
    "            #block_reduced = pygeos.coverage_union_all(block_parcels)\n",
    "            #center = pygeos.get_coordinates(pygeos.centroid(block_reduced)).tolist()\n",
    "            #block_interior = pygeos.apply(block_reduced, lambda x: ((x - center)*.9999 + center) )\n",
    "            #block_exterior = pygeos.difference(block_reduced, block_interior)\n",
    "            #block_ring = pygeos.intersects(block_exterior, block_parcels)\n",
    "            #block_parcels_outer = block_parcels[block_ring]\n",
    "            #block_parcels_inner = block_parcels[~block_ring]\n",
    "            block_parcels = block_parcels_inner.copy()\n",
    "            parcel_residual = np.sum(pygeos.get_num_geometries(block_parcels_inner))\n",
    "            if parcel_residual == 0: \n",
    "                block_layers.append( str(np.sum(pygeos.get_num_geometries(block_parcels_outer))))\n",
    "                block_depth = len(block_layers)\n",
    "                break\n",
    "            block_layers.append( str(np.sum(pygeos.get_num_geometries(block_parcels_outer))))\n",
    "            block_depth = len(block_layers) \n",
    "        else:\n",
    "            block_depth = len(block_layers)\n",
    "            \n",
    "    else:\n",
    "        block_layers.append( str(bldg_count))\n",
    "        block_depth = len(block_layers)\n",
    "        \n",
    "    data = gpd.GeoDataFrame.from_dict({'block_id': [block_id], \n",
    "                                       'gadm_code': gadm_code,\n",
    "                                       'country_code': country_code,\n",
    "                                       'block_area': block_area,\n",
    "                                       'building_area': bldg_area,\n",
    "                                       'building_count': bldg_count,\n",
    "                                       'building_layers': ','.join(block_layers), \n",
    "                                       'k_complexity': [block_depth], \n",
    "                                       'geometry': block_data['geometry']}).to_crs(epsg=4326)\n",
    "    return data\n",
    "\n"
   ]
  },
  {
   "cell_type": "code",
   "execution_count": 6,
   "id": "63e4a2d2",
   "metadata": {},
   "outputs": [],
   "source": [
    "def compute_layers(block_data, bldg_data, block_col, block_id, street_linestrings=None):\n",
    "    \"\"\"\n",
    "    Returns a GeoDataFrame containing k-complexity layers in each row for a block\n",
    "    Args:\n",
    "        block_data: GeoDataFrame, output returned from build_blocks() function\n",
    "        bldg_data: GeoDataFrame, output returned from index_buildings() function\n",
    "        block_col: string, column that contains the block_id codes (present in block_data and bldg_data)\n",
    "        block_id: string, unique identification code of block_id string in block_col\n",
    "        street_linestrings: PyGEOS geometry array, linestrings representing street accesses (optional)\n",
    "    Returns:\n",
    "        GeoDataFrame with block-layer geometries and the columns: \n",
    "            'block_id','gadm_code','country_code','building_count','k_complexity'\n",
    "    \"\"\"\n",
    "    block_layers = [] \n",
    "    block_layers_geometry = []\n",
    "    k_complexity = []\n",
    "    bldg_data = bldg_data[bldg_data[block_col] == block_id].to_crs(epsg=3395)\n",
    "    block_data = block_data[block_data[block_col] == block_id].to_crs(epsg=3395) \n",
    "    country_code = block_data['country_code'].unique()[0] \n",
    "    gadm_code = block_data['gadm_code'].unique()[0] \n",
    "    bldg_array = pygeos.from_shapely(bldg_data['geometry'])\n",
    "    bldg_count = np.sum(pygeos.get_num_geometries(bldg_array))\n",
    "    \n",
    "    if bldg_count not in [1,0]:\n",
    "        bldg_data[\"geometry\"] = bldg_data.centroid\n",
    "        building_points = pygeos.multipoints(pygeos.from_shapely(bldg_data[\"geometry\"]))\n",
    "        points = pygeos.get_parts(building_points)\n",
    "        voronoi = pygeos.get_parts(pygeos.voronoi_polygons(building_points))\n",
    "        block = pygeos.from_shapely(block_data['geometry'])\n",
    "        if not pygeos.is_valid(block): block = pygeos.make_valid(block)\n",
    "        block_parcels = pygeos.intersection(block, voronoi)    \n",
    "        bldg_count = np.sum(pygeos.get_num_geometries(block_parcels))\n",
    "        \n",
    "        if street_linestrings is not None:\n",
    "            street_linestrings = pygeos.intersection(pygeos.multilinestrings(street_linestrings),block)\n",
    "            block_intersect = pygeos.intersects(street_linestrings,block_parcels)\n",
    "            block_parcels_outer = block_parcels[block_intersect]\n",
    "            block_layers.append(np.sum(pygeos.get_num_geometries(block_parcels_outer)))\n",
    "            block_layers_geometry.append(pygeos.geometrycollections(block_parcels_outer))\n",
    "            block_depth = len(block_layers)\n",
    "            k_complexity.append(block_depth)\n",
    "            block_parcels = block_parcels[~block_intersect]\n",
    "            \n",
    "        parcel_residual = np.sum(pygeos.get_num_geometries(block_parcels))\n",
    "        \n",
    "        while parcel_residual > 0:\n",
    "            block_reduced = pygeos.coverage_union_all(block_parcels_outer)\n",
    "            block_parcels_inner = block_parcels[~pygeos.touches(block_parcels,block_reduced)]      \n",
    "            block_parcels_outer = block_parcels[pygeos.touches(block_parcels,block_reduced)] \n",
    "            block_parcels = block_parcels_inner.copy()\n",
    "            parcel_residual = np.sum(pygeos.get_num_geometries(block_parcels_inner))\n",
    "            \n",
    "            if parcel_residual == 0: \n",
    "                block_layers.append(np.sum(pygeos.get_num_geometries(block_parcels_outer)))\n",
    "                block_layers_geometry.append(pygeos.geometrycollections(block_parcels_outer))\n",
    "                block_depth = len(block_layers)\n",
    "                k_complexity.append(block_depth)\n",
    "                break\n",
    "                \n",
    "            block_layers.append(np.sum(pygeos.get_num_geometries(block_parcels_outer)))\n",
    "            block_layers_geometry.append(pygeos.geometrycollections(block_parcels_outer))\n",
    "            block_depth = len(block_layers) \n",
    "            k_complexity.append(block_depth)\n",
    "        else:\n",
    "            block_depth = len(block_layers)\n",
    "            k_complexity.append(block_depth)\n",
    "    else:\n",
    "        block_layers.append(bldg_count)\n",
    "        block_layers_geometry.append(pygeos.geometrycollections(block_parcels_outer))\n",
    "        block_depth = len(block_layers)\n",
    "        k_complexity.append(block_depth)\n",
    "\n",
    "    data = gpd.GeoDataFrame.from_dict({'block_id': block_id, \n",
    "                                       'gadm_code': gadm_code,\n",
    "                                       'country_code': country_code,\n",
    "                                       'building_count': block_layers,\n",
    "                                       'k_complexity': k_complexity,\n",
    "                                       'geometry': pygeos.to_shapely(block_layers_geometry)}).set_crs(epsg=3395)\n",
    "    return data\n"
   ]
  },
  {
   "cell_type": "markdown",
   "id": "90f46b2e",
   "metadata": {},
   "source": [
    "## Data Inputs"
   ]
  },
  {
   "cell_type": "markdown",
   "id": "10b685d4",
   "metadata": {},
   "source": [
    "#### Read in country-level GADM delineations"
   ]
  },
  {
   "cell_type": "code",
   "execution_count": 7,
   "id": "0aa5b72a",
   "metadata": {},
   "outputs": [],
   "source": [
    "# Read in the GADM of country\n",
    "gadm_gpd = gpd.read_file('/Users/nm/Desktop/mnp-dev/block_pygeos/block_input_data/gadm/gadm36_SLE_3.shp').to_crs(epsg = 4326)\n",
    "# Construct list of GADMs\n",
    "gadm_level = max([(re.sub('GID_', '', i)) for i in list(filter(re.compile(\"GID_*\").match, list(gadm_gpd.columns)))])\n",
    "gadm_list = list(gadm_gpd['GID_'+ gadm_level].unique())\n"
   ]
  },
  {
   "cell_type": "markdown",
   "id": "66d40a63",
   "metadata": {},
   "source": [
    "#### Read in  country-level OSM 'highway' linestrings\n"
   ]
  },
  {
   "cell_type": "code",
   "execution_count": 8,
   "id": "301421e2",
   "metadata": {},
   "outputs": [],
   "source": [
    "# Read in the OSM linestring blob\n",
    "osm_gpd = gpd.read_file('/Users/nm/Desktop/mnp-dev/block_pygeos/block_input_data/osm/sierra-leone_lines.geojson').to_crs(epsg = 4326)\n",
    "osm_pygeos = pygeos.from_shapely(osm_gpd['geometry'])\n",
    "osm_highways = pygeos.from_shapely(osm_gpd[osm_gpd['highway'].notnull()]['geometry'].to_crs(epsg=3395))\n"
   ]
  },
  {
   "cell_type": "markdown",
   "id": "69b87245",
   "metadata": {},
   "source": [
    "#### Read in country-level DigitalGlobe road linestrings"
   ]
  },
  {
   "cell_type": "code",
   "execution_count": 9,
   "id": "38b4c3e4",
   "metadata": {},
   "outputs": [],
   "source": [
    "# Read in the Ecopia road linestrings\n",
    "ecopia_gpd = gpd.read_file('/Users/nm/Desktop/mnp-dev/data/africa_sierra_leone_road_4326/africa_sierra_leone_road_4326.shp').to_crs(epsg = 4326)\n",
    "ecopia_highways = pygeos.from_shapely(ecopia_gpd['geometry'].to_crs(epsg=3395))"
   ]
  },
  {
   "cell_type": "markdown",
   "id": "07fbd773",
   "metadata": {},
   "source": [
    "#### Read in GADM-level buildings polygons"
   ]
  },
  {
   "cell_type": "code",
   "execution_count": 10,
   "id": "4dbd247e",
   "metadata": {},
   "outputs": [],
   "source": [
    "# Set building file directory path\n",
    "building_path = '/Users/nm/Downloads/'\n",
    "country_code = 'SLE'\n",
    "# Construct list of building files in directory\n",
    "building_files = list(filter(re.compile(\"buildings_\").match, sorted(list(os.listdir(str(building_path + country_code))))))  \n"
   ]
  },
  {
   "cell_type": "markdown",
   "id": "c01f2d9a",
   "metadata": {},
   "source": [
    "## Computation Examples"
   ]
  },
  {
   "cell_type": "markdown",
   "id": "5bbba503",
   "metadata": {},
   "source": [
    "#### Generate blocks and join to building geometries"
   ]
  },
  {
   "cell_type": "code",
   "execution_count": 11,
   "id": "c8913c82",
   "metadata": {},
   "outputs": [],
   "source": [
    "gadm_id = 'SLE.4.2.1_1'\n",
    "gadm_blocks = build_blocks(gadm_data = gadm_gpd, \n",
    "                           osm_data = osm_pygeos, \n",
    "                           gadm_level = gadm_level,\n",
    "                           gadm_code = gadm_id)\n",
    "gadm_blocks_list = list(gadm_blocks['block_id'].unique())\n",
    "building_file = list(filter(re.compile(str(\"%s\" % gadm_id +'.geojson')).findall, sorted(building_files)))[0]\n",
    "building_gpd = gpd.read_file(str(building_path + country_code + '/' + building_file)).to_crs(epsg=4326)\n",
    "block_coded_buildings = index_buildings(gadm_block_data = gadm_blocks, bldg_data = building_gpd)\n",
    "\n",
    "    "
   ]
  },
  {
   "cell_type": "markdown",
   "id": "1c6ce990",
   "metadata": {},
   "source": [
    "#### Run *k*-function on a single block (returns 1 block-level record in each row with *k*-value)"
   ]
  },
  {
   "cell_type": "code",
   "execution_count": 12,
   "id": "a691cbfa",
   "metadata": {},
   "outputs": [
    {
     "name": "stdout",
     "output_type": "stream",
     "text": [
      "CPU times: user 1.62 s, sys: 24.9 ms, total: 1.64 s\n",
      "Wall time: 1.6 s\n"
     ]
    }
   ],
   "source": [
    "%%time\n",
    "k_block = compute_k(block_data = gadm_blocks,\n",
    "                    bldg_data = block_coded_buildings, \n",
    "                    block_col = 'block_id', \n",
    "                    block_id = 'SLE.4.2.1_1_50',\n",
    "                    street_linestrings = osm_highways) # ecopia_highways"
   ]
  },
  {
   "cell_type": "code",
   "execution_count": 13,
   "id": "38649b7d",
   "metadata": {},
   "outputs": [
    {
     "data": {
      "text/html": [
       "<div>\n",
       "<style scoped>\n",
       "    .dataframe tbody tr th:only-of-type {\n",
       "        vertical-align: middle;\n",
       "    }\n",
       "\n",
       "    .dataframe tbody tr th {\n",
       "        vertical-align: top;\n",
       "    }\n",
       "\n",
       "    .dataframe thead th {\n",
       "        text-align: right;\n",
       "    }\n",
       "</style>\n",
       "<table border=\"1\" class=\"dataframe\">\n",
       "  <thead>\n",
       "    <tr style=\"text-align: right;\">\n",
       "      <th></th>\n",
       "      <th>block_id</th>\n",
       "      <th>gadm_code</th>\n",
       "      <th>country_code</th>\n",
       "      <th>block_area</th>\n",
       "      <th>building_area</th>\n",
       "      <th>building_count</th>\n",
       "      <th>building_layers</th>\n",
       "      <th>k_complexity</th>\n",
       "      <th>geometry</th>\n",
       "    </tr>\n",
       "  </thead>\n",
       "  <tbody>\n",
       "    <tr>\n",
       "      <th>50</th>\n",
       "      <td>SLE.4.2.1_1_50</td>\n",
       "      <td>SLE.4.2.1_1</td>\n",
       "      <td>SLE</td>\n",
       "      <td>158444.04</td>\n",
       "      <td>54213.04</td>\n",
       "      <td>760</td>\n",
       "      <td>142,197,162,119,95,40,5</td>\n",
       "      <td>7</td>\n",
       "      <td>POLYGON ((-13.23227 8.47253, -13.23213 8.47273...</td>\n",
       "    </tr>\n",
       "  </tbody>\n",
       "</table>\n",
       "</div>"
      ],
      "text/plain": [
       "          block_id    gadm_code country_code  block_area  building_area  \\\n",
       "50  SLE.4.2.1_1_50  SLE.4.2.1_1          SLE   158444.04       54213.04   \n",
       "\n",
       "    building_count          building_layers  k_complexity  \\\n",
       "50             760  142,197,162,119,95,40,5             7   \n",
       "\n",
       "                                             geometry  \n",
       "50  POLYGON ((-13.23227 8.47253, -13.23213 8.47273...  "
      ]
     },
     "execution_count": 13,
     "metadata": {},
     "output_type": "execute_result"
    }
   ],
   "source": [
    "k_block.head()"
   ]
  },
  {
   "cell_type": "code",
   "execution_count": 14,
   "id": "832e6fcd",
   "metadata": {},
   "outputs": [
    {
     "data": {
      "text/plain": [
       "<AxesSubplot:>"
      ]
     },
     "execution_count": 14,
     "metadata": {},
     "output_type": "execute_result"
    },
    {
     "data": {
      "image/png": "[encoded data removed]",
      "text/plain": [
       "<Figure size 432x288 with 1 Axes>"
      ]
     },
     "metadata": {
      "needs_background": "light"
     },
     "output_type": "display_data"
    }
   ],
   "source": [
    "k_block.plot(column='k_complexity', cmap = 'viridis')\n"
   ]
  },
  {
   "cell_type": "markdown",
   "id": "836fb551",
   "metadata": {},
   "source": [
    "#### Calculate *k*-complexity layers which is useful for inspecting blocks (returns several records for each building layer within a block)"
   ]
  },
  {
   "cell_type": "code",
   "execution_count": 15,
   "id": "27379973",
   "metadata": {},
   "outputs": [
    {
     "name": "stdout",
     "output_type": "stream",
     "text": [
      "CPU times: user 1.59 s, sys: 25.5 ms, total: 1.61 s\n",
      "Wall time: 1.57 s\n"
     ]
    }
   ],
   "source": [
    "%%time\n",
    "k_layers = compute_layers(block_data = gadm_blocks, \n",
    "                        bldg_data = block_coded_buildings, \n",
    "                        block_col = 'block_id', \n",
    "                        block_id = 'SLE.4.2.1_1_50', \n",
    "                        street_linestrings=osm_highways) # ecopia_highways\n"
   ]
  },
  {
   "cell_type": "code",
   "execution_count": 16,
   "id": "6e202e1c",
   "metadata": {},
   "outputs": [
    {
     "data": {
      "text/plain": [
       "<AxesSubplot:>"
      ]
     },
     "execution_count": 16,
     "metadata": {},
     "output_type": "execute_result"
    },
    {
     "data": {
      "image/png": "[encoded data removed]",
      "text/plain": [
       "<Figure size 432x288 with 2 Axes>"
      ]
     },
     "metadata": {
      "needs_background": "light"
     },
     "output_type": "display_data"
    }
   ],
   "source": [
    "k_layers.plot(column='k_complexity', legend=True, cmap = 'viridis')\n"
   ]
  },
  {
   "cell_type": "markdown",
   "id": "3b0a950d",
   "metadata": {},
   "source": [
    "#### Test *k*-function on a series of blocks"
   ]
  },
  {
   "cell_type": "code",
   "execution_count": 17,
   "id": "c476fb7c",
   "metadata": {},
   "outputs": [],
   "source": [
    "test_sequence = ['SLE.4.2.1_1_1021', 'SLE.4.2.1_1_1081', 'SLE.4.2.1_1_1135', 'SLE.4.2.1_1_1452', \n",
    "                 'SLE.4.2.1_1_150', 'SLE.4.2.1_1_18', 'SLE.4.2.1_1_189', 'SLE.4.2.1_1_279', \n",
    "                 'SLE.4.2.1_1_300', 'SLE.4.2.1_1_415', 'SLE.4.2.1_1_497', 'SLE.4.2.1_1_516', \n",
    "                 'SLE.4.2.1_1_57', 'SLE.4.2.1_1_633', 'SLE.4.2.1_1_674', 'SLE.4.2.1_1_677', \n",
    "                 'SLE.4.2.1_1_678', 'SLE.4.2.1_1_718', 'SLE.4.2.1_1_723', 'SLE.4.2.1_1_724', \n",
    "                 'SLE.4.2.1_1_725', 'SLE.4.2.1_1_757', 'SLE.4.2.1_1_760', 'SLE.4.2.1_1_852', \n",
    "                 'SLE.4.2.1_1_960', 'SLE.4.2.1_1_961', 'SLE.4.2.1_1_966']"
   ]
  },
  {
   "cell_type": "markdown",
   "id": "eae0fcd7",
   "metadata": {},
   "source": [
    "#### Run *k*-function serially across blocks"
   ]
  },
  {
   "cell_type": "code",
   "execution_count": 18,
   "id": "9ab28fb2",
   "metadata": {},
   "outputs": [
    {
     "name": "stdout",
     "output_type": "stream",
     "text": [
      "CPU times: user 12.3 s, sys: 354 ms, total: 12.7 s\n",
      "Wall time: 12.5 s\n"
     ]
    }
   ],
   "source": [
    "%%time\n",
    "sequence_list = test_sequence\n",
    "results_serial = gpd.GeoDataFrame(columns = ['block_id', 'gadm_code', 'country_code', \n",
    "                                           'block_area', 'building_area', 'building_count', \n",
    "                                           'building_layers', 'k_complexity', 'geometry']).set_crs(epsg=4326)\n",
    "block_metrics = []\n",
    "for x in sequence_list: \n",
    "    df_k = compute_k(block_data = gadm_blocks,\n",
    "                     bldg_data = block_coded_buildings, \n",
    "                     block_col = 'block_id', \n",
    "                     block_id = x,\n",
    "                     street_linestrings = osm_highways)\n",
    "    block_metrics.append(df_k)\n",
    "        \n",
    "results_serial = results_serial.append(block_metrics, ignore_index=True)\n"
   ]
  },
  {
   "cell_type": "code",
   "execution_count": 19,
   "id": "9075020f",
   "metadata": {},
   "outputs": [
    {
     "data": {
      "text/plain": [
       "<AxesSubplot:>"
      ]
     },
     "execution_count": 19,
     "metadata": {},
     "output_type": "execute_result"
    },
    {
     "data": {
      "image/png": "[encoded data removed]",
      "text/plain": [
       "<Figure size 432x288 with 1 Axes>"
      ]
     },
     "metadata": {
      "needs_background": "light"
     },
     "output_type": "display_data"
    }
   ],
   "source": [
    "results_serial.plot(column='k_complexity', legend=True, cmap = 'viridis')\n"
   ]
  },
  {
   "cell_type": "markdown",
   "id": "3412ec2e",
   "metadata": {},
   "source": [
    "#### Run *k*-function across 2-partitions of blocks in parallel"
   ]
  },
  {
   "cell_type": "code",
   "execution_count": 20,
   "id": "fdeeb3df",
   "metadata": {},
   "outputs": [
    {
     "name": "stdout",
     "output_type": "stream",
     "text": [
      "CPU times: user 5.29 s, sys: 794 ms, total: 6.08 s\n",
      "Wall time: 16.2 s\n"
     ]
    }
   ],
   "source": [
    "%%time\n",
    "bag_sequence = db.from_sequence(test_sequence, npartitions=2) # adjust partitions\n",
    "compute_sequence = bag_sequence.map(lambda x: compute_k(block_data = gadm_blocks,\n",
    "                              bldg_data = block_coded_buildings, \n",
    "                              block_col = 'block_id', \n",
    "                              block_id = x,\n",
    "                              street_linestrings = osm_highways))\n",
    "\n",
    "output_sequence = compute_sequence.compute()\n",
    "#output_sequence = compute_sequence.persist() # use when on a cluster\n",
    "results_parallel = gpd.GeoDataFrame(columns = ['block_id', 'gadm_code', 'country_code', \n",
    "                                      'block_area', 'building_area', 'building_count', \n",
    "                                      'building_layers', 'k_complexity', 'geometry']).set_crs(epsg=4326)\n",
    "\n",
    "for i,j in enumerate(output_sequence): results_parallel = results_parallel.append(output_sequence[i], \n",
    "                                                                                  ignore_index=True)\n"
   ]
  },
  {
   "cell_type": "code",
   "execution_count": 21,
   "id": "09d1b902",
   "metadata": {},
   "outputs": [],
   "source": [
    "#results_parallel.plot(column='k_complexity', legend=True, cmap = 'viridis')"
   ]
  },
  {
   "cell_type": "markdown",
   "id": "25363026",
   "metadata": {},
   "source": [
    "#### Run serialized computation over *n* GADM areas, subdivide into *n* blocks, and serially iterate through hundreds of blocks"
   ]
  },
  {
   "cell_type": "code",
   "execution_count": 22,
   "id": "5cd0f9ab",
   "metadata": {},
   "outputs": [
    {
     "name": "stdout",
     "output_type": "stream",
     "text": [
      "CPU times: user 1min 4s, sys: 2.05 s, total: 1min 6s\n",
      "Wall time: 1min 5s\n"
     ]
    }
   ],
   "source": [
    "%%time\n",
    "k_output_serial = gpd.GeoDataFrame(columns = ['block_id', 'gadm_code', 'country_code', \n",
    "                                           'block_area', 'building_area', 'building_count', \n",
    "                                           'building_layers', 'k_complexity', 'geometry']).set_crs(epsg=4326)\n",
    "for i in gadm_list[1:2]: \n",
    "    gadm_blocks = build_blocks(gadm_data = gadm_gpd, \n",
    "                               osm_data = osm_pygeos, \n",
    "                               gadm_level = gadm_level,\n",
    "                               gadm_code = i)\n",
    "\n",
    "    gadm_blocks_list = list(gadm_blocks['block_id'].unique())\n",
    "    \n",
    "    building_file = list(filter(re.compile(str(\"%s\" % i +'.geojson')).findall, sorted(building_files)))[0]\n",
    "    building_gpd = gpd.read_file(str(building_path + country_code + '/' + building_file)).to_crs(epsg=4326)\n",
    "    \n",
    "    block_coded_buildings = index_buildings(gadm_block_data = gadm_blocks, \n",
    "                                            bldg_data = building_gpd)\n",
    "    \n",
    "    block_metrics = []\n",
    "    \n",
    "    for x in gadm_blocks_list: \n",
    "        df_k = compute_k(block_data = gadm_blocks,\n",
    "                         bldg_data = block_coded_buildings, \n",
    "                         block_col = 'block_id', \n",
    "                         block_id = x,\n",
    "                         street_linestrings = osm_highways)\n",
    "        block_metrics.append(df_k)\n",
    "        \n",
    "    k_output_serial = k_output_serial.append(block_metrics, ignore_index=True)\n",
    "\n"
   ]
  },
  {
   "cell_type": "code",
   "execution_count": 23,
   "id": "a5b1838a",
   "metadata": {},
   "outputs": [
    {
     "data": {
      "text/html": [
       "<div>\n",
       "<style scoped>\n",
       "    .dataframe tbody tr th:only-of-type {\n",
       "        vertical-align: middle;\n",
       "    }\n",
       "\n",
       "    .dataframe tbody tr th {\n",
       "        vertical-align: top;\n",
       "    }\n",
       "\n",
       "    .dataframe thead th {\n",
       "        text-align: right;\n",
       "    }\n",
       "</style>\n",
       "<table border=\"1\" class=\"dataframe\">\n",
       "  <thead>\n",
       "    <tr style=\"text-align: right;\">\n",
       "      <th></th>\n",
       "      <th>block_id</th>\n",
       "      <th>gadm_code</th>\n",
       "      <th>country_code</th>\n",
       "      <th>block_area</th>\n",
       "      <th>building_area</th>\n",
       "      <th>building_count</th>\n",
       "      <th>building_layers</th>\n",
       "      <th>k_complexity</th>\n",
       "      <th>geometry</th>\n",
       "    </tr>\n",
       "  </thead>\n",
       "  <tbody>\n",
       "    <tr>\n",
       "      <th>0</th>\n",
       "      <td>SLE.1.1.2_1_0</td>\n",
       "      <td>SLE.1.1.2_1</td>\n",
       "      <td>SLE</td>\n",
       "      <td>32814030.79</td>\n",
       "      <td>29160.87</td>\n",
       "      <td>465</td>\n",
       "      <td>159,200,88,14,4</td>\n",
       "      <td>5</td>\n",
       "      <td>POLYGON ((-10.99324 7.83366, -10.99322 7.83454...</td>\n",
       "    </tr>\n",
       "    <tr>\n",
       "      <th>1</th>\n",
       "      <td>SLE.1.1.2_1_1</td>\n",
       "      <td>SLE.1.1.2_1</td>\n",
       "      <td>SLE</td>\n",
       "      <td>82795637.08</td>\n",
       "      <td>39242.52</td>\n",
       "      <td>728</td>\n",
       "      <td>270,303,134,21</td>\n",
       "      <td>4</td>\n",
       "      <td>POLYGON ((-10.96699 7.77914, -10.96660 7.77911...</td>\n",
       "    </tr>\n",
       "    <tr>\n",
       "      <th>2</th>\n",
       "      <td>SLE.1.1.2_1_2</td>\n",
       "      <td>SLE.1.1.2_1</td>\n",
       "      <td>SLE</td>\n",
       "      <td>10540446.51</td>\n",
       "      <td>15084.58</td>\n",
       "      <td>252</td>\n",
       "      <td>67,89,67,25,4</td>\n",
       "      <td>5</td>\n",
       "      <td>POLYGON ((-10.93411 7.83798, -10.93391 7.83814...</td>\n",
       "    </tr>\n",
       "    <tr>\n",
       "      <th>3</th>\n",
       "      <td>SLE.1.1.2_1_3</td>\n",
       "      <td>SLE.1.1.2_1</td>\n",
       "      <td>SLE</td>\n",
       "      <td>20948405.32</td>\n",
       "      <td>25262.90</td>\n",
       "      <td>365</td>\n",
       "      <td>73,120,104,54,14</td>\n",
       "      <td>5</td>\n",
       "      <td>POLYGON ((-11.01570 7.88252, -11.01565 7.88273...</td>\n",
       "    </tr>\n",
       "    <tr>\n",
       "      <th>4</th>\n",
       "      <td>SLE.1.1.2_1_4</td>\n",
       "      <td>SLE.1.1.2_1</td>\n",
       "      <td>SLE</td>\n",
       "      <td>9024868.63</td>\n",
       "      <td>6420.80</td>\n",
       "      <td>122</td>\n",
       "      <td>40,42,34,6</td>\n",
       "      <td>4</td>\n",
       "      <td>POLYGON ((-10.96316 7.89072, -10.96315 7.89080...</td>\n",
       "    </tr>\n",
       "    <tr>\n",
       "      <th>5</th>\n",
       "      <td>SLE.1.1.2_1_5</td>\n",
       "      <td>SLE.1.1.2_1</td>\n",
       "      <td>SLE</td>\n",
       "      <td>3112788.87</td>\n",
       "      <td>5896.44</td>\n",
       "      <td>94</td>\n",
       "      <td>53,29,12</td>\n",
       "      <td>3</td>\n",
       "      <td>POLYGON ((-10.95480 7.80478, -10.95463 7.80480...</td>\n",
       "    </tr>\n",
       "    <tr>\n",
       "      <th>6</th>\n",
       "      <td>SLE.1.1.2_1_6</td>\n",
       "      <td>SLE.1.1.2_1</td>\n",
       "      <td>SLE</td>\n",
       "      <td>56379834.93</td>\n",
       "      <td>118115.05</td>\n",
       "      <td>1629</td>\n",
       "      <td>525,581,344,137,35,7</td>\n",
       "      <td>6</td>\n",
       "      <td>POLYGON ((-10.84395 7.97945, -10.84342 7.97969...</td>\n",
       "    </tr>\n",
       "    <tr>\n",
       "      <th>7</th>\n",
       "      <td>SLE.1.1.2_1_7</td>\n",
       "      <td>SLE.1.1.2_1</td>\n",
       "      <td>SLE</td>\n",
       "      <td>12842544.32</td>\n",
       "      <td>4896.35</td>\n",
       "      <td>79</td>\n",
       "      <td>31,32,16</td>\n",
       "      <td>3</td>\n",
       "      <td>POLYGON ((-11.00613 7.82986, -11.00593 7.83022...</td>\n",
       "    </tr>\n",
       "    <tr>\n",
       "      <th>8</th>\n",
       "      <td>SLE.1.1.2_1_8</td>\n",
       "      <td>SLE.1.1.2_1</td>\n",
       "      <td>SLE</td>\n",
       "      <td>32769221.11</td>\n",
       "      <td>24626.47</td>\n",
       "      <td>490</td>\n",
       "      <td>220,209,54,7</td>\n",
       "      <td>4</td>\n",
       "      <td>POLYGON ((-10.88551 7.89431, -10.88548 7.89567...</td>\n",
       "    </tr>\n",
       "    <tr>\n",
       "      <th>9</th>\n",
       "      <td>SLE.1.1.2_1_9</td>\n",
       "      <td>SLE.1.1.2_1</td>\n",
       "      <td>SLE</td>\n",
       "      <td>14693916.39</td>\n",
       "      <td>21901.81</td>\n",
       "      <td>358</td>\n",
       "      <td>113,137,74,31,3</td>\n",
       "      <td>5</td>\n",
       "      <td>POLYGON ((-10.93804 7.90968, -10.93799 7.90990...</td>\n",
       "    </tr>\n",
       "  </tbody>\n",
       "</table>\n",
       "</div>"
      ],
      "text/plain": [
       "        block_id    gadm_code country_code   block_area  building_area  \\\n",
       "0  SLE.1.1.2_1_0  SLE.1.1.2_1          SLE  32814030.79       29160.87   \n",
       "1  SLE.1.1.2_1_1  SLE.1.1.2_1          SLE  82795637.08       39242.52   \n",
       "2  SLE.1.1.2_1_2  SLE.1.1.2_1          SLE  10540446.51       15084.58   \n",
       "3  SLE.1.1.2_1_3  SLE.1.1.2_1          SLE  20948405.32       25262.90   \n",
       "4  SLE.1.1.2_1_4  SLE.1.1.2_1          SLE   9024868.63        6420.80   \n",
       "5  SLE.1.1.2_1_5  SLE.1.1.2_1          SLE   3112788.87        5896.44   \n",
       "6  SLE.1.1.2_1_6  SLE.1.1.2_1          SLE  56379834.93      118115.05   \n",
       "7  SLE.1.1.2_1_7  SLE.1.1.2_1          SLE  12842544.32        4896.35   \n",
       "8  SLE.1.1.2_1_8  SLE.1.1.2_1          SLE  32769221.11       24626.47   \n",
       "9  SLE.1.1.2_1_9  SLE.1.1.2_1          SLE  14693916.39       21901.81   \n",
       "\n",
       "  building_count       building_layers k_complexity  \\\n",
       "0            465       159,200,88,14,4            5   \n",
       "1            728        270,303,134,21            4   \n",
       "2            252         67,89,67,25,4            5   \n",
       "3            365      73,120,104,54,14            5   \n",
       "4            122            40,42,34,6            4   \n",
       "5             94              53,29,12            3   \n",
       "6           1629  525,581,344,137,35,7            6   \n",
       "7             79              31,32,16            3   \n",
       "8            490          220,209,54,7            4   \n",
       "9            358       113,137,74,31,3            5   \n",
       "\n",
       "                                            geometry  \n",
       "0  POLYGON ((-10.99324 7.83366, -10.99322 7.83454...  \n",
       "1  POLYGON ((-10.96699 7.77914, -10.96660 7.77911...  \n",
       "2  POLYGON ((-10.93411 7.83798, -10.93391 7.83814...  \n",
       "3  POLYGON ((-11.01570 7.88252, -11.01565 7.88273...  \n",
       "4  POLYGON ((-10.96316 7.89072, -10.96315 7.89080...  \n",
       "5  POLYGON ((-10.95480 7.80478, -10.95463 7.80480...  \n",
       "6  POLYGON ((-10.84395 7.97945, -10.84342 7.97969...  \n",
       "7  POLYGON ((-11.00613 7.82986, -11.00593 7.83022...  \n",
       "8  POLYGON ((-10.88551 7.89431, -10.88548 7.89567...  \n",
       "9  POLYGON ((-10.93804 7.90968, -10.93799 7.90990...  "
      ]
     },
     "execution_count": 23,
     "metadata": {},
     "output_type": "execute_result"
    }
   ],
   "source": [
    "k_output_serial.head(10)"
   ]
  },
  {
   "cell_type": "markdown",
   "id": "7e8fbbe5",
   "metadata": {},
   "source": [
    "#### Run serialized computation over *n* GADM areas, subdivide into *n* blocks, and parallelize block-level computation"
   ]
  },
  {
   "cell_type": "code",
   "execution_count": 25,
   "id": "11747081",
   "metadata": {},
   "outputs": [
    {
     "name": "stdout",
     "output_type": "stream",
     "text": [
      "CPU times: user 9.36 s, sys: 1.08 s, total: 10.4 s\n",
      "Wall time: 1min 9s\n"
     ]
    }
   ],
   "source": [
    "%%time\n",
    "k_output_parallel = gpd.GeoDataFrame(columns = ['block_id', 'gadm_code', 'country_code', \n",
    "                                           'block_area', 'building_area', 'building_count', \n",
    "                                           'building_layers', 'k_complexity', 'geometry']).set_crs(epsg=4326)\n",
    "for i in gadm_list[1:2]: \n",
    "    gadm_blocks = build_blocks(gadm_data = gadm_gpd, \n",
    "                               osm_data = osm_pygeos, \n",
    "                               gadm_level = gadm_level,\n",
    "                               gadm_code = i)\n",
    "\n",
    "    gadm_blocks_list = list(gadm_blocks['block_id'].unique())\n",
    "    \n",
    "    building_file = list(filter(re.compile(str(\"%s\" % i +'.geojson')).findall, sorted(building_files)))[0]\n",
    "    building_gpd = gpd.read_file(str(building_path + country_code + '/' + building_file)).to_crs(epsg=4326)\n",
    "    \n",
    "    block_coded_buildings = index_buildings(gadm_block_data = gadm_blocks, \n",
    "                                            bldg_data = building_gpd)\n",
    "    \n",
    "    bag_sequence = db.from_sequence(gadm_blocks_list, npartitions=2)\n",
    "    compute_sequence = bag_sequence.map(lambda x: compute_k(block_data = gadm_blocks,\n",
    "                                                bldg_data = block_coded_buildings, \n",
    "                                                block_col = 'block_id', \n",
    "                                                block_id = x,\n",
    "                                                street_linestrings = osm_highways))\n",
    "    output_sequence = compute_sequence.compute()\n",
    "    #output_sequence = compute_sequence.persist() # use when on a cluster\n",
    "    for i,j in enumerate(output_sequence): k_output_parallel = k_output_parallel.append(output_sequence[i], \n",
    "                                                                                        ignore_index=True)\n",
    "\n"
   ]
  },
  {
   "cell_type": "code",
   "execution_count": 26,
   "id": "390ec787",
   "metadata": {},
   "outputs": [
    {
     "data": {
      "text/plain": [
       "<AxesSubplot:>"
      ]
     },
     "execution_count": 26,
     "metadata": {},
     "output_type": "execute_result"
    },
    {
     "data": {
      "image/png": "[encoded data removed]",
      "text/plain": [
       "<Figure size 432x288 with 1 Axes>"
      ]
     },
     "metadata": {
      "needs_background": "light"
     },
     "output_type": "display_data"
    }
   ],
   "source": [
    "k_output_parallel.plot(column='k_complexity', legend=True, cmap = 'viridis')\n"
   ]
  },
  {
   "cell_type": "code",
   "execution_count": 27,
   "id": "1db6d5bf",
   "metadata": {},
   "outputs": [
    {
     "data": {
      "text/html": [
       "<div>\n",
       "<style scoped>\n",
       "    .dataframe tbody tr th:only-of-type {\n",
       "        vertical-align: middle;\n",
       "    }\n",
       "\n",
       "    .dataframe tbody tr th {\n",
       "        vertical-align: top;\n",
       "    }\n",
       "\n",
       "    .dataframe thead th {\n",
       "        text-align: right;\n",
       "    }\n",
       "</style>\n",
       "<table border=\"1\" class=\"dataframe\">\n",
       "  <thead>\n",
       "    <tr style=\"text-align: right;\">\n",
       "      <th></th>\n",
       "      <th>block_id</th>\n",
       "      <th>gadm_code</th>\n",
       "      <th>country_code</th>\n",
       "      <th>block_area</th>\n",
       "      <th>building_area</th>\n",
       "      <th>building_count</th>\n",
       "      <th>building_layers</th>\n",
       "      <th>k_complexity</th>\n",
       "      <th>geometry</th>\n",
       "    </tr>\n",
       "  </thead>\n",
       "  <tbody>\n",
       "    <tr>\n",
       "      <th>0</th>\n",
       "      <td>SLE.1.1.2_1_0</td>\n",
       "      <td>SLE.1.1.2_1</td>\n",
       "      <td>SLE</td>\n",
       "      <td>32814030.79</td>\n",
       "      <td>29160.87</td>\n",
       "      <td>465</td>\n",
       "      <td>159,200,88,14,4</td>\n",
       "      <td>5</td>\n",
       "      <td>POLYGON ((-10.99324 7.83366, -10.99322 7.83454...</td>\n",
       "    </tr>\n",
       "    <tr>\n",
       "      <th>1</th>\n",
       "      <td>SLE.1.1.2_1_1</td>\n",
       "      <td>SLE.1.1.2_1</td>\n",
       "      <td>SLE</td>\n",
       "      <td>82795637.08</td>\n",
       "      <td>39242.52</td>\n",
       "      <td>728</td>\n",
       "      <td>270,303,134,21</td>\n",
       "      <td>4</td>\n",
       "      <td>POLYGON ((-10.96699 7.77914, -10.96660 7.77911...</td>\n",
       "    </tr>\n",
       "    <tr>\n",
       "      <th>2</th>\n",
       "      <td>SLE.1.1.2_1_2</td>\n",
       "      <td>SLE.1.1.2_1</td>\n",
       "      <td>SLE</td>\n",
       "      <td>10540446.51</td>\n",
       "      <td>15084.58</td>\n",
       "      <td>252</td>\n",
       "      <td>67,89,67,25,4</td>\n",
       "      <td>5</td>\n",
       "      <td>POLYGON ((-10.93411 7.83798, -10.93391 7.83814...</td>\n",
       "    </tr>\n",
       "    <tr>\n",
       "      <th>3</th>\n",
       "      <td>SLE.1.1.2_1_3</td>\n",
       "      <td>SLE.1.1.2_1</td>\n",
       "      <td>SLE</td>\n",
       "      <td>20948405.32</td>\n",
       "      <td>25262.90</td>\n",
       "      <td>365</td>\n",
       "      <td>73,120,104,54,14</td>\n",
       "      <td>5</td>\n",
       "      <td>POLYGON ((-11.01570 7.88252, -11.01565 7.88273...</td>\n",
       "    </tr>\n",
       "    <tr>\n",
       "      <th>4</th>\n",
       "      <td>SLE.1.1.2_1_4</td>\n",
       "      <td>SLE.1.1.2_1</td>\n",
       "      <td>SLE</td>\n",
       "      <td>9024868.63</td>\n",
       "      <td>6420.80</td>\n",
       "      <td>122</td>\n",
       "      <td>40,42,34,6</td>\n",
       "      <td>4</td>\n",
       "      <td>POLYGON ((-10.96316 7.89072, -10.96315 7.89080...</td>\n",
       "    </tr>\n",
       "    <tr>\n",
       "      <th>5</th>\n",
       "      <td>SLE.1.1.2_1_5</td>\n",
       "      <td>SLE.1.1.2_1</td>\n",
       "      <td>SLE</td>\n",
       "      <td>3112788.87</td>\n",
       "      <td>5896.44</td>\n",
       "      <td>94</td>\n",
       "      <td>53,29,12</td>\n",
       "      <td>3</td>\n",
       "      <td>POLYGON ((-10.95480 7.80478, -10.95463 7.80480...</td>\n",
       "    </tr>\n",
       "    <tr>\n",
       "      <th>6</th>\n",
       "      <td>SLE.1.1.2_1_6</td>\n",
       "      <td>SLE.1.1.2_1</td>\n",
       "      <td>SLE</td>\n",
       "      <td>56379834.93</td>\n",
       "      <td>118115.05</td>\n",
       "      <td>1629</td>\n",
       "      <td>525,581,344,137,35,7</td>\n",
       "      <td>6</td>\n",
       "      <td>POLYGON ((-10.84395 7.97945, -10.84342 7.97969...</td>\n",
       "    </tr>\n",
       "    <tr>\n",
       "      <th>7</th>\n",
       "      <td>SLE.1.1.2_1_7</td>\n",
       "      <td>SLE.1.1.2_1</td>\n",
       "      <td>SLE</td>\n",
       "      <td>12842544.32</td>\n",
       "      <td>4896.35</td>\n",
       "      <td>79</td>\n",
       "      <td>31,32,16</td>\n",
       "      <td>3</td>\n",
       "      <td>POLYGON ((-11.00613 7.82986, -11.00593 7.83022...</td>\n",
       "    </tr>\n",
       "    <tr>\n",
       "      <th>8</th>\n",
       "      <td>SLE.1.1.2_1_8</td>\n",
       "      <td>SLE.1.1.2_1</td>\n",
       "      <td>SLE</td>\n",
       "      <td>32769221.11</td>\n",
       "      <td>24626.47</td>\n",
       "      <td>490</td>\n",
       "      <td>220,209,54,7</td>\n",
       "      <td>4</td>\n",
       "      <td>POLYGON ((-10.88551 7.89431, -10.88548 7.89567...</td>\n",
       "    </tr>\n",
       "    <tr>\n",
       "      <th>9</th>\n",
       "      <td>SLE.1.1.2_1_9</td>\n",
       "      <td>SLE.1.1.2_1</td>\n",
       "      <td>SLE</td>\n",
       "      <td>14693916.39</td>\n",
       "      <td>21901.81</td>\n",
       "      <td>358</td>\n",
       "      <td>113,137,74,31,3</td>\n",
       "      <td>5</td>\n",
       "      <td>POLYGON ((-10.93804 7.90968, -10.93799 7.90990...</td>\n",
       "    </tr>\n",
       "  </tbody>\n",
       "</table>\n",
       "</div>"
      ],
      "text/plain": [
       "        block_id    gadm_code country_code   block_area  building_area  \\\n",
       "0  SLE.1.1.2_1_0  SLE.1.1.2_1          SLE  32814030.79       29160.87   \n",
       "1  SLE.1.1.2_1_1  SLE.1.1.2_1          SLE  82795637.08       39242.52   \n",
       "2  SLE.1.1.2_1_2  SLE.1.1.2_1          SLE  10540446.51       15084.58   \n",
       "3  SLE.1.1.2_1_3  SLE.1.1.2_1          SLE  20948405.32       25262.90   \n",
       "4  SLE.1.1.2_1_4  SLE.1.1.2_1          SLE   9024868.63        6420.80   \n",
       "5  SLE.1.1.2_1_5  SLE.1.1.2_1          SLE   3112788.87        5896.44   \n",
       "6  SLE.1.1.2_1_6  SLE.1.1.2_1          SLE  56379834.93      118115.05   \n",
       "7  SLE.1.1.2_1_7  SLE.1.1.2_1          SLE  12842544.32        4896.35   \n",
       "8  SLE.1.1.2_1_8  SLE.1.1.2_1          SLE  32769221.11       24626.47   \n",
       "9  SLE.1.1.2_1_9  SLE.1.1.2_1          SLE  14693916.39       21901.81   \n",
       "\n",
       "  building_count       building_layers k_complexity  \\\n",
       "0            465       159,200,88,14,4            5   \n",
       "1            728        270,303,134,21            4   \n",
       "2            252         67,89,67,25,4            5   \n",
       "3            365      73,120,104,54,14            5   \n",
       "4            122            40,42,34,6            4   \n",
       "5             94              53,29,12            3   \n",
       "6           1629  525,581,344,137,35,7            6   \n",
       "7             79              31,32,16            3   \n",
       "8            490          220,209,54,7            4   \n",
       "9            358       113,137,74,31,3            5   \n",
       "\n",
       "                                            geometry  \n",
       "0  POLYGON ((-10.99324 7.83366, -10.99322 7.83454...  \n",
       "1  POLYGON ((-10.96699 7.77914, -10.96660 7.77911...  \n",
       "2  POLYGON ((-10.93411 7.83798, -10.93391 7.83814...  \n",
       "3  POLYGON ((-11.01570 7.88252, -11.01565 7.88273...  \n",
       "4  POLYGON ((-10.96316 7.89072, -10.96315 7.89080...  \n",
       "5  POLYGON ((-10.95480 7.80478, -10.95463 7.80480...  \n",
       "6  POLYGON ((-10.84395 7.97945, -10.84342 7.97969...  \n",
       "7  POLYGON ((-11.00613 7.82986, -11.00593 7.83022...  \n",
       "8  POLYGON ((-10.88551 7.89431, -10.88548 7.89567...  \n",
       "9  POLYGON ((-10.93804 7.90968, -10.93799 7.90990...  "
      ]
     },
     "execution_count": 27,
     "metadata": {},
     "output_type": "execute_result"
    }
   ],
   "source": [
    "k_output_parallel.head(10)"
   ]
  },
  {
   "cell_type": "markdown",
   "id": "9aaa307d",
   "metadata": {},
   "source": [
    "## Write Outputs"
   ]
  },
  {
   "cell_type": "markdown",
   "id": "7b152a9f",
   "metadata": {},
   "source": [
    "#### Write GeoJSON and Parquet output"
   ]
  },
  {
   "cell_type": "code",
   "execution_count": null,
   "id": "ed34d921",
   "metadata": {},
   "outputs": [],
   "source": [
    "k_output_parallel.to_file('/Users/nm/Desktop/kblock_freetown.geojson', driver='GeoJSON') \n",
    "warnings.filterwarnings('ignore', message='.*initial implementation of Parquet.*')\n",
    "k_output_parallel.to_parquet('/Users/nm/Desktop/kblock_freetown.parquet')  \n"
   ]
  },
  {
   "cell_type": "markdown",
   "id": "3376e108",
   "metadata": {},
   "source": [
    "#### Write *k*-layer output with buildings and streets for an individual block"
   ]
  },
  {
   "cell_type": "code",
   "execution_count": null,
   "id": "c3eca595",
   "metadata": {},
   "outputs": [],
   "source": [
    "k_layers.to_file('/Users/nm/Desktop/k_layer.geojson', driver='GeoJSON')  \n",
    "\n",
    "k_layers_buildings = block_coded_buildings[block_coded_buildings['block_id'] == 'SLE.4.2.1_1_50'].to_crs(epsg=3395)\n",
    "k_layers_buildings.to_file('/Users/nm/Desktop/k_layer_bldgs.geojson', driver='GeoJSON') \n",
    "\n",
    "k_layers_streets = gpd.GeoDataFrame({'streets':1,\"geometry\": gpd.GeoSeries(pygeos.to_shapely(osm_highways))}).set_crs(epsg=3395)\n",
    "k_layers_streets.to_file('/Users/nm/Desktop/k_layer_streets.geojson', driver='GeoJSON')  "
   ]
  }
 ],
 "metadata": {
  "kernelspec": {
   "display_name": "Python [conda env:pygeos_env] *",
   "language": "python",
   "name": "conda-env-pygeos_env-py"
  },
  "language_info": {
   "codemirror_mode": {
    "name": "ipython",
    "version": 3
   },
   "file_extension": ".py",
   "mimetype": "text/x-python",
   "name": "python",
   "nbconvert_exporter": "python",
   "pygments_lexer": "ipython3",
   "version": "3.9.5"
  }
 },
 "nbformat": 4,
 "nbformat_minor": 5
}
